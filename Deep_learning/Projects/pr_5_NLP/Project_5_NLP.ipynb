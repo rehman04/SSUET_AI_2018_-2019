{
  "nbformat": 4,
  "nbformat_minor": 0,
  "metadata": {
    "colab": {
      "name": "Project 5 NLP",
      "version": "0.3.2",
      "provenance": [],
      "collapsed_sections": [],
      "toc_visible": true
    },
    "kernelspec": {
      "display_name": "Python 3",
      "name": "python3"
    }
  },
  "cells": [
    {
      "cell_type": "code",
      "metadata": {
        "id": "PI0ELLBDlY8r",
        "colab_type": "code",
        "colab": {}
      },
      "source": [
        "filename = '...'\n",
        "file = open(filename, 'rt')\n",
        "text = file.read()\n",
        "file.close()\n",
        "# split into words by white space\n",
        "words = text.split()\n",
        "# convert to lowercase\n",
        "words = [word.lower() for word in words]\n"
      ],
      "execution_count": 0,
      "outputs": []
    },
    {
      "cell_type": "code",
      "metadata": {
        "id": "IsQjJ1TZlfPx",
        "colab_type": "code",
        "colab": {}
      },
      "source": [
        "# load data\n",
        "filename = '...'\n",
        "file = open(filename, 'rt')\n",
        "text = file.read()\n",
        "file.close()\n",
        "# split into words\n",
        "fromnltk.tokenize import word_tokenize\n",
        "tokens = word_tokenize(text)\n"
      ],
      "execution_count": 0,
      "outputs": []
    },
    {
      "cell_type": "code",
      "metadata": {
        "id": "q3uf04z6m0fV",
        "colab_type": "code",
        "outputId": "801c9aee-8580-43c7-f9b2-890b2c5ad8e1",
        "colab": {
          "base_uri": "https://localhost:8080/",
          "height": 255
        }
      },
      "source": [
        "from sklearn.feature_extraction.text import TfidfVectorizer\n",
        "text = [\"The quick brown fox jumped over the lazy dog.\",\n",
        "\t\t\"The dog.\",\n",
        "\t\t\"The fox\"]\n",
        "\n",
        "# create the transform\n",
        "vectorizer = TfidfVectorizer()\n",
        "# tokenize and build vocab\n",
        "vectorizer.fit(text)\n",
        "# summarize\n",
        "print(vectorizer.vocabulary_)\n",
        "print(vectorizer.idf_)\n",
        "# encode document\n",
        "vector = vectorizer.transform([text[0]])\n",
        "print(vector)\n",
        "# summarize encoded vector\n",
        "print(vector.shape)\n",
        "print(vector.toarray())\n"
      ],
      "execution_count": 0,
      "outputs": [
        {
          "output_type": "stream",
          "text": [
            "{'the': 7, 'quick': 6, 'brown': 0, 'fox': 2, 'jumped': 3, 'over': 5, 'lazy': 4, 'dog': 1}\n",
            "[1.69314718 1.28768207 1.28768207 1.69314718 1.69314718 1.69314718\n",
            " 1.69314718 1.        ]\n",
            "  (0, 7)\t0.4298344050159891\n",
            "  (0, 6)\t0.3638864554802418\n",
            "  (0, 5)\t0.3638864554802418\n",
            "  (0, 4)\t0.3638864554802418\n",
            "  (0, 3)\t0.3638864554802418\n",
            "  (0, 2)\t0.27674502873103346\n",
            "  (0, 1)\t0.27674502873103346\n",
            "  (0, 0)\t0.3638864554802418\n",
            "(1, 8)\n",
            "[[0.36388646 0.27674503 0.27674503 0.36388646 0.36388646 0.36388646\n",
            "  0.36388646 0.42983441]]\n"
          ],
          "name": "stdout"
        }
      ]
    },
    {
      "cell_type": "code",
      "metadata": {
        "id": "SE9qEE0vFWis",
        "colab_type": "code",
        "colab": {}
      },
      "source": [
        ""
      ],
      "execution_count": 0,
      "outputs": []
    },
    {
      "cell_type": "code",
      "metadata": {
        "id": "dgnJiSlQFfO4",
        "colab_type": "code",
        "outputId": "8aabe469-dfc8-477a-aae2-2c3105f5638c",
        "colab": {
          "base_uri": "https://localhost:8080/",
          "height": 153
        }
      },
      "source": [
        "from keras.preprocessing.text import Tokenizer\n",
        "docs = ['Well done!',\n",
        "\t\t'Good work',\n",
        "\t\t'Great effort',\n",
        "\t\t'nice work',\n",
        "\t\t'Excellent!']\n",
        "t=Tokenizer()\n",
        "t.fit_on_texts(docs)\n",
        "print(t.word_counts,\"\\n\")\n",
        "print(t.document_count,\"\\n\")\n",
        "print(t.word_index,\"\\n\")\n",
        "print(t.word_docs,\"\\n\")\n",
        "encoded_docs=t.text_to_matrix(docs,mode='count')\n",
        "print(encoded_docs)\n"
      ],
      "execution_count": 0,
      "outputs": [
        {
          "output_type": "stream",
          "text": [
            "OrderedDict([('well', 1), ('done', 1), ('good', 1), ('work', 2), ('great', 1), ('effort', 1), ('nice', 1), ('excellent', 1)]) \n",
            "\n",
            "5 \n",
            "\n",
            "{'work': 1, 'well': 2, 'done': 3, 'good': 4, 'great': 5, 'effort': 6, 'nice': 7, 'excellent': 8} \n",
            "\n",
            "defaultdict(<class 'int'>, {'well': 1, 'done': 1, 'work': 2, 'good': 1, 'great': 1, 'effort': 1, 'nice': 1, 'excellent': 1}) \n",
            "\n"
          ],
          "name": "stdout"
        }
      ]
    },
    {
      "cell_type": "code",
      "metadata": {
        "id": "aE3nmKRXY66y",
        "colab_type": "code",
        "outputId": "8fc226b2-593b-427d-b1dc-c98469f64775",
        "colab": {
          "base_uri": "https://localhost:8080/",
          "height": 530
        }
      },
      "source": [
        "from gensim.models import Word2Vec\n",
        "sentences = [['this', 'is', 'the', 'first', 'sentence', 'for', 'word2vec'],\n",
        "\t\t\t['this', 'is', 'the', 'second', 'sentence'],\n",
        "\t\t\t['yet', 'another', 'sentence'],\n",
        "\t\t\t['one', 'more', 'sentence'],\n",
        "\t\t\t['and', 'the', 'final', 'sentence']]\n",
        "model=Word2Vec(sentences,min_count=1)\n",
        "print(model)\n",
        "words=list(model.wv.vocab)\n",
        "print(words)\n",
        "print(model['sentence'])"
      ],
      "execution_count": 0,
      "outputs": [
        {
          "output_type": "stream",
          "text": [
            "Word2Vec(vocab=14, size=100, alpha=0.025)\n",
            "['this', 'is', 'the', 'first', 'sentence', 'for', 'word2vec', 'second', 'yet', 'another', 'one', 'more', 'and', 'final']\n",
            "[ 5.5616460e-04 -2.2791994e-03 -1.1671656e-03 -2.4272013e-03\n",
            "  2.8350696e-03  3.6608917e-03  4.3005864e-03 -8.5708161e-04\n",
            " -3.5528271e-03 -3.2081432e-04  5.2686704e-05  1.9741760e-04\n",
            " -3.0997938e-03  3.9247731e-03  3.0087689e-03 -7.2404958e-04\n",
            " -4.0353513e-03 -1.0769888e-03  4.9662674e-03  1.2568808e-03\n",
            "  1.0436052e-03  7.3061022e-04  4.4655688e-03 -2.1818203e-03\n",
            " -2.2318305e-03  5.3907046e-04 -3.7015819e-03  6.2012678e-04\n",
            "  1.1534318e-03 -1.4955611e-03 -2.9549114e-03  4.0781256e-03\n",
            " -5.8243208e-04 -4.9472619e-03  1.5434177e-03  5.2627479e-04\n",
            " -1.1371385e-03  3.3380117e-03 -4.0349417e-04 -2.4631002e-03\n",
            "  4.2770873e-03  1.1462995e-03 -4.5609712e-03  4.4952850e-03\n",
            " -1.6388859e-03  4.0152958e-03  2.2132702e-03 -3.1345810e-03\n",
            "  4.1387393e-03 -2.1391938e-04 -2.4332367e-03  4.2779692e-03\n",
            "  3.3092366e-03  6.2621967e-04  3.2091658e-03  1.6432230e-05\n",
            " -3.8511821e-03 -4.9700500e-03 -1.2225703e-04  4.5773806e-03\n",
            "  3.3592335e-03  2.6806265e-03 -2.6585569e-03  3.0874994e-03\n",
            "  1.0522801e-03 -4.6757387e-04  2.4429737e-03 -2.7390481e-03\n",
            " -4.5027263e-03 -4.8200195e-03  3.3045029e-03 -1.2210510e-03\n",
            " -3.5376057e-03 -2.4663825e-03 -1.5121580e-03  7.9426292e-04\n",
            " -4.8857117e-03  5.2262883e-04 -6.1568781e-04  3.6065795e-03\n",
            "  3.5759534e-03  2.1014863e-03 -5.8527483e-04  2.9723849e-03\n",
            "  4.0664556e-03 -4.7873807e-05 -3.0112986e-03  4.8586661e-03\n",
            "  9.0897863e-04  2.1876490e-03 -2.1541687e-03 -4.7772937e-03\n",
            " -4.4391621e-03  1.9000988e-03 -5.4025004e-04 -1.4921908e-03\n",
            "  4.3995730e-03  1.1649465e-03 -4.7831992e-03 -2.5789829e-03]\n"
          ],
          "name": "stdout"
        },
        {
          "output_type": "stream",
          "text": [
            "/usr/local/lib/python3.6/dist-packages/ipykernel_launcher.py:11: DeprecationWarning: Call to deprecated `__getitem__` (Method will be removed in 4.0.0, use self.wv.__getitem__() instead).\n",
            "  # This is added back by InteractiveShellApp.init_path()\n"
          ],
          "name": "stderr"
        }
      ]
    },
    {
      "cell_type": "code",
      "metadata": {
        "id": "FqB9eLcZPZ6u",
        "colab_type": "code",
        "outputId": "b1380d4e-1d12-4e70-d907-80494fa01d6b",
        "colab": {
          "base_uri": "https://localhost:8080/",
          "height": 578
        }
      },
      "source": [
        "from gensim.models import Word2Vec\n",
        "from sklearn.decomposition import PCA #principal component analysis\n",
        "from matplotlib import pyplot\n",
        "\n",
        "sentences = [['this', 'is', 'the', 'first', 'sentence', 'for', 'word2vec'],\n",
        "\t\t\t['this', 'is', 'the', 'second', 'sentence'],\n",
        "\t\t\t['yet', 'another', 'sentence'],\n",
        "\t\t\t['one', 'more', 'sentence'],\n",
        "\t\t\t['and', 'the', 'final', 'sentence']]\n",
        "model = Word2Vec(sentences, min_count=1)\n",
        "\n",
        "X=model[model.wv.vocab]\n",
        "pca=PCA(n_components=2)\n",
        "result=pca.fit_transform(X)\n",
        "pyplot.scatter(result[:,0],result[:,1])\n",
        "print(result)\n",
        "words=list(model.wv.vocab)\n",
        "print(len(words))\n",
        "for i,word in enumerate(words):\n",
        "  pyplot.annotate(word,xy=(result[i,0],result[i,1]))\n",
        "pyplot.show()\n"
      ],
      "execution_count": 0,
      "outputs": [
        {
          "output_type": "stream",
          "text": [
            "/usr/local/lib/python3.6/dist-packages/ipykernel_launcher.py:12: DeprecationWarning: Call to deprecated `__getitem__` (Method will be removed in 4.0.0, use self.wv.__getitem__() instead).\n",
            "  if sys.path[0] == '':\n"
          ],
          "name": "stderr"
        },
        {
          "output_type": "stream",
          "text": [
            "[[-0.01416525 -0.00498329]\n",
            " [ 0.00358386 -0.00625358]\n",
            " [ 0.01398577 -0.01166959]\n",
            " [ 0.00906208  0.01738635]\n",
            " [ 0.00811259  0.00107784]\n",
            " [-0.00853699  0.00768806]\n",
            " [-0.01271204 -0.00933632]\n",
            " [-0.0001162  -0.00408442]\n",
            " [ 0.01717345 -0.00310727]\n",
            " [-0.00602428  0.01961917]\n",
            " [-0.00139828 -0.00347253]\n",
            " [-0.00890094  0.00183869]\n",
            " [-0.00727025 -0.00774774]\n",
            " [ 0.00720648  0.00304463]]\n",
            "14\n"
          ],
          "name": "stdout"
        },
        {
          "output_type": "display_data",
          "data": {
            "image/png": "[encoded data removed]",
            "text/plain": [
              "<Figure size 432x288 with 1 Axes>"
            ]
          },
          "metadata": {
            "tags": []
          }
        }
      ]
    },
    {
      "cell_type": "code",
      "metadata": {
        "id": "zLaD1bbHFwWT",
        "colab_type": "code",
        "outputId": "360373cd-b988-4113-85f7-b0c9110fdc74",
        "colab": {
          "base_uri": "https://localhost:8080/",
          "height": 343
        }
      },
      "source": [
        "from keras.models import Sequential\n",
        "from keras.layers import Dense, Flatten\n",
        "from keras.layers.embeddings import Embedding\n",
        "vocab_size=100\n",
        "max_length=32\n",
        "model=Sequential()\n",
        "model.add(Embedding(vocab_size,8,input_length=max_length))\n",
        "model.add(Flatten())\n",
        "model.add(Dense(1,activation='sigmoid'))\n",
        "model.compile(optimizer='adam',loss='binary_crossentropy',metrics=['acc'])\n",
        "print(model.summary())"
      ],
      "execution_count": 0,
      "outputs": [
        {
          "output_type": "stream",
          "text": [
            "Using TensorFlow backend.\n"
          ],
          "name": "stderr"
        },
        {
          "output_type": "stream",
          "text": [
            "WARNING:tensorflow:From /usr/local/lib/python3.6/dist-packages/tensorflow/python/framework/op_def_library.py:263: colocate_with (from tensorflow.python.framework.ops) is deprecated and will be removed in a future version.\n",
            "Instructions for updating:\n",
            "Colocations handled automatically by placer.\n",
            "_________________________________________________________________\n",
            "Layer (type)                 Output Shape              Param #   \n",
            "=================================================================\n",
            "embedding_1 (Embedding)      (None, 32, 8)             800       \n",
            "_________________________________________________________________\n",
            "flatten_1 (Flatten)          (None, 256)               0         \n",
            "_________________________________________________________________\n",
            "dense_1 (Dense)              (None, 1)                 257       \n",
            "=================================================================\n",
            "Total params: 1,057\n",
            "Trainable params: 1,057\n",
            "Non-trainable params: 0\n",
            "_________________________________________________________________\n",
            "None\n"
          ],
          "name": "stdout"
        }
      ]
    },
    {
      "cell_type": "code",
      "metadata": {
        "id": "NAHRYW5KbFo3",
        "colab_type": "code",
        "colab": {}
      },
      "source": [
        "from google.colab import files\n",
        "\n",
        "uploaded = files.upload()\n",
        "\n",
        "for fn in uploaded.keys():\n",
        "  print('User uploaded file \"{name}\" with length {length} bytes'.format(\n",
        "      name=fn, length=len(uploaded[fn])))\n"
      ],
      "execution_count": 0,
      "outputs": []
    },
    {
      "cell_type": "code",
      "metadata": {
        "id": "e7TkCQ5k7t31",
        "colab_type": "code",
        "colab": {}
      },
      "source": [
        "f_name = 'the_holy_quran.txt'\n",
        "file = open(f_name, 'rt')\n",
        "text = file.read()\n",
        "file.close()\n",
        "# split into words by white space\n",
        "words = text.split()\n",
        "# convert to lowercase\n",
        "words = [word.lower() for word in words]\n",
        "\n",
        "print(words)"
      ],
      "execution_count": 0,
      "outputs": []
    },
    {
      "cell_type": "code",
      "metadata": {
        "id": "vzLR-tDK7wYd",
        "colab_type": "code",
        "colab": {}
      },
      "source": [
        "# -*- coding: utf-8 -*-\n",
        " \n",
        "import unicodedata\n",
        "\n",
        "\"\"\" Normalise (normalize) unicode data in Python to remove umlauts, accents etc. \"\"\"\n",
        "\n",
        "normal=[unicodedata.normalize('NFKD', x).encode('ASCII','ignore') for x in words]\n",
        "#normal = unicodedata.normalize('NFKD', data).encode('ASCII', 'ignore')\n",
        "print(normal)\n",
        " \n",
        "# prints \"naive cafe\""
      ],
      "execution_count": 0,
      "outputs": []
    },
    {
      "cell_type": "code",
      "metadata": {
        "id": "eheGCDyG70uH",
        "colab_type": "code",
        "colab": {}
      },
      "source": [
        "import re\n",
        "words = re.split(r'\\W+', text)\n",
        "print(words[:100])"
      ],
      "execution_count": 0,
      "outputs": []
    },
    {
      "cell_type": "code",
      "metadata": {
        "id": "oUdMPRrc73wJ",
        "colab_type": "code",
        "colab": {}
      },
      "source": [
        "# remove punctuation from each word\n",
        "import string\n",
        "table = str.maketrans('', '', string.punctuation)\n",
        "stripped = [w.translate(table) for w in words]\n",
        "print(stripped[:100])"
      ],
      "execution_count": 0,
      "outputs": []
    },
    {
      "cell_type": "code",
      "metadata": {
        "id": "GYLNtEHy78yi",
        "colab_type": "code",
        "outputId": "5315298a-2b3c-4ee1-ae0d-292496810793",
        "colab": {
          "base_uri": "https://localhost:8080/",
          "height": 68
        }
      },
      "source": [
        "import nltk\n",
        "nltk.download('stopwords')\n",
        "\n"
      ],
      "execution_count": 0,
      "outputs": [
        {
          "output_type": "stream",
          "text": [
            "[nltk_data] Downloading package stopwords to /root/nltk_data...\n",
            "[nltk_data]   Package stopwords is already up-to-date!\n"
          ],
          "name": "stdout"
        },
        {
          "output_type": "execute_result",
          "data": {
            "text/plain": [
              "True"
            ]
          },
          "metadata": {
            "tags": []
          },
          "execution_count": 5
        }
      ]
    },
    {
      "cell_type": "code",
      "metadata": {
        "id": "IOIcevkX7_aM",
        "colab_type": "code",
        "colab": {}
      },
      "source": [
        "from nltk.corpus import stopwords\n",
        "stop_words = stopwords.words()\n",
        "print(stop_words)"
      ],
      "execution_count": 0,
      "outputs": []
    },
    {
      "cell_type": "code",
      "metadata": {
        "id": "-hqo4Nlc-Yar",
        "colab_type": "code",
        "outputId": "c1cd9561-d694-4e5b-8087-6f43366b1be4",
        "colab": {
          "base_uri": "https://localhost:8080/",
          "height": 68
        }
      },
      "source": [
        "import nltk\n",
        "nltk.download('punkt')"
      ],
      "execution_count": 0,
      "outputs": [
        {
          "output_type": "stream",
          "text": [
            "[nltk_data] Downloading package punkt to /root/nltk_data...\n",
            "[nltk_data]   Unzipping tokenizers/punkt.zip.\n"
          ],
          "name": "stdout"
        },
        {
          "output_type": "execute_result",
          "data": {
            "text/plain": [
              "True"
            ]
          },
          "metadata": {
            "tags": []
          },
          "execution_count": 3
        }
      ]
    },
    {
      "cell_type": "code",
      "metadata": {
        "id": "gabNwjNe-IG4",
        "colab_type": "code",
        "outputId": "83451463-186f-4892-a4c9-291025fe0ce7",
        "colab": {
          "base_uri": "https://localhost:8080/",
          "height": 54
        }
      },
      "source": [
        "from nltk.tokenize import sent_tokenize, word_tokenize\n",
        " \n",
        "data = \"All work and no play makes jack dull boy. All work and no play makes jack a dull boy.\"\n",
        "wordss = word_tokenize(data)\n",
        "print(wordss)"
      ],
      "execution_count": 0,
      "outputs": [
        {
          "output_type": "stream",
          "text": [
            "['All', 'work', 'and', 'no', 'play', 'makes', 'jack', 'dull', 'boy', '.', 'All', 'work', 'and', 'no', 'play', 'makes', 'jack', 'a', 'dull', 'boy', '.']\n"
          ],
          "name": "stdout"
        }
      ]
    },
    {
      "cell_type": "code",
      "metadata": {
        "id": "T_cAtPo4-nhX",
        "colab_type": "code",
        "outputId": "c79040cb-079b-423a-ec80-5dde57f764cc",
        "colab": {
          "base_uri": "https://localhost:8080/",
          "height": 105
        }
      },
      "source": [
        "from nltk.tokenize import sent_tokenize, word_tokenize\n",
        "from nltk.corpus import stopwords\n",
        " \n",
        "data = \"All work and no play makes jack dull boy. All work and no play makes jack a dull boy.\"\n",
        "stopWords= stopwords.words('english')\n",
        "print(stopWords)\n",
        "stopWords = set(stopwords.words('english'))\n",
        "print(stopWords)\n",
        "words = word_tokenize(data)\n",
        "print(words)\n",
        "wordsFiltered = []\n",
        "\n",
        "for w in words:\n",
        "    if w not in stopWords:\n",
        "        wordsFiltered.append(w)\n",
        "\n",
        "print(wordsFiltered)\n"
      ],
      "execution_count": 0,
      "outputs": [
        {
          "output_type": "stream",
          "text": [
            "['i', 'me', 'my', 'myself', 'we', 'our', 'ours', 'ourselves', 'you', \"you're\", \"you've\", \"you'll\", \"you'd\", 'your', 'yours', 'yourself', 'yourselves', 'he', 'him', 'his', 'himself', 'she', \"she's\", 'her', 'hers', 'herself', 'it', \"it's\", 'its', 'itself', 'they', 'them', 'their', 'theirs', 'themselves', 'what', 'which', 'who', 'whom', 'this', 'that', \"that'll\", 'these', 'those', 'am', 'is', 'are', 'was', 'were', 'be', 'been', 'being', 'have', 'has', 'had', 'having', 'do', 'does', 'did', 'doing', 'a', 'an', 'the', 'and', 'but', 'if', 'or', 'because', 'as', 'until', 'while', 'of', 'at', 'by', 'for', 'with', 'about', 'against', 'between', 'into', 'through', 'during', 'before', 'after', 'above', 'below', 'to', 'from', 'up', 'down', 'in', 'out', 'on', 'off', 'over', 'under', 'again', 'further', 'then', 'once', 'here', 'there', 'when', 'where', 'why', 'how', 'all', 'any', 'both', 'each', 'few', 'more', 'most', 'other', 'some', 'such', 'no', 'nor', 'not', 'only', 'own', 'same', 'so', 'than', 'too', 'very', 's', 't', 'can', 'will', 'just', 'don', \"don't\", 'should', \"should've\", 'now', 'd', 'll', 'm', 'o', 're', 've', 'y', 'ain', 'aren', \"aren't\", 'couldn', \"couldn't\", 'didn', \"didn't\", 'doesn', \"doesn't\", 'hadn', \"hadn't\", 'hasn', \"hasn't\", 'haven', \"haven't\", 'isn', \"isn't\", 'ma', 'mightn', \"mightn't\", 'mustn', \"mustn't\", 'needn', \"needn't\", 'shan', \"shan't\", 'shouldn', \"shouldn't\", 'wasn', \"wasn't\", 'weren', \"weren't\", 'won', \"won't\", 'wouldn', \"wouldn't\"]\n",
            "{'against', 'can', 'd', 'doesn', 'with', 'why', 'too', 'an', 'out', 'where', 'up', 'their', 'he', 'ourselves', 'again', 'be', 'until', 'should', 'it', 'what', 'your', 'now', 'our', 'while', 'weren', 'between', 'at', 'wasn', 'wouldn', \"doesn't\", 'over', 'so', 'have', \"you'll\", \"it's\", 'through', 'no', 'himself', 'more', 'of', 'then', 'just', 'me', 'my', 's', 'didn', 'doing', 'during', 'i', 'hers', 'from', \"needn't\", 'both', 'the', 'hasn', 'will', 'most', 'are', 'she', 'yourselves', 'does', 'its', 'after', \"you'd\", 'haven', 'very', 'hadn', 'being', 'itself', \"she's\", 'them', 'you', 'own', 're', 'into', \"wouldn't\", 'there', 'couldn', 'than', \"don't\", \"should've\", 'some', 'is', 'been', \"hadn't\", \"shouldn't\", 'and', 'to', 'ours', \"won't\", 'because', 'when', 'under', 'this', 'other', 'or', 'only', 'before', 'below', 'myself', 'whom', 'did', 'which', 'was', 'ain', 'her', \"wasn't\", \"haven't\", 'nor', 'how', \"mustn't\", 'aren', 'if', 'these', 'above', 'shouldn', 'ma', 'shan', 'yours', 'who', 'all', \"couldn't\", \"isn't\", 'o', 'off', 'on', 'not', 'in', 'once', \"mightn't\", 'has', \"shan't\", 'theirs', 'don', \"didn't\", 'y', 'were', \"you've\", 'we', 'any', 'themselves', 'herself', 'about', 'further', 'here', 'same', 't', 'mightn', 'a', 'do', \"aren't\", 'those', 'isn', 'won', 'yourself', 'm', 'had', 'few', 'such', 'each', 'by', 've', 'his', 'they', 'having', 'down', \"you're\", \"weren't\", 'as', \"hasn't\", 'that', 'll', 'but', 'needn', 'him', 'mustn', 'for', \"that'll\", 'am'}\n",
            "['All', 'work', 'and', 'no', 'play', 'makes', 'jack', 'dull', 'boy', '.', 'All', 'work', 'and', 'no', 'play', 'makes', 'jack', 'a', 'dull', 'boy', '.']\n",
            "['All', 'work', 'play', 'makes', 'jack', 'dull', 'boy', '.', 'All', 'work', 'play', 'makes', 'jack', 'dull', 'boy', '.']\n"
          ],
          "name": "stdout"
        }
      ]
    }
  ]
}