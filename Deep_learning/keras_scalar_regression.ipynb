{
 "cells": [
  {
   "cell_type": "code",
   "execution_count": 33,
   "metadata": {
    "colab": {
     "base_uri": "https://localhost:8080/",
     "height": 90
    },
    "colab_type": "code",
    "id": "Nx6hosLaVaUt",
    "outputId": "cba2a812-333f-4c87-8312-e042122cc76d"
   },
   "outputs": [
    {
     "name": "stdout",
     "output_type": "stream",
     "text": [
      "processing fold # 0\n",
      "processing fold # 1\n",
      "processing fold # 2\n",
      "processing fold # 3\n"
     ]
    }
   ],
   "source": [
    "from keras.datasets import boston_housing\n",
    "from keras import models\n",
    "from keras import layers\n",
    "import numpy as np\n",
    "(train_data,train_targets),(test_data,test_targets)=boston_housing.load_data()\n",
    "\n",
    "#sklearn.preprocessing.normalize\n",
    "mean = train_data.mean(axis=0)\n",
    "train_data -= mean\n",
    "std = train_data.std(axis=0)\n",
    "train_data /= std\n",
    "test_data -= mean\n",
    "test_data /= std\n",
    "\n",
    "def build_model():\n",
    "  model = models.Sequential()\n",
    "  model.add(layers.Dense(64, activation='relu',input_shape=(train_data.shape[1],)))\n",
    "  model.add(layers.Dense(64, activation='relu'))\n",
    "  model.add(layers.Dense(1))\n",
    "  model.compile(optimizer='rmsprop', loss='mse', metrics=['mae'])\n",
    "  return model\n",
    "\n",
    "k=4\n",
    "num_val_samples=len(train_data)//k #101\n",
    "num_epochs=100\n",
    "all_mae_histories =[]\n",
    "\n",
    "'''a = np.array([[1, 2], [3, 4]])\n",
    "b = np.array([[5, 6]])\n",
    "print(np.concatenate([[[1, 2], [3, 4],[5, 6]]]))'''\n",
    "\n",
    "for i in range(k):\n",
    "  print('processing fold #', i)\n",
    "  val_data = train_data[i * num_val_samples: (i + 1) * num_val_samples]\n",
    "  val_targets = train_targets[i * num_val_samples: (i + 1) * num_val_samples]\n",
    " \n",
    "  partial_train_data = np.concatenate(\n",
    "  [train_data[:i * num_val_samples],\n",
    "  train_data[(i + 1) * num_val_samples:]])\n",
    "  \n",
    "  partial_train_targets = np.concatenate(\n",
    "  [train_targets[:i * num_val_samples],\n",
    "  train_targets[(i + 1) * num_val_samples:]])\n",
    "  \n",
    "  model=build_model()\n",
    "  history=model.fit(partial_train_data, partial_train_targets,\n",
    "                    validation_data=(val_data, val_targets),\n",
    "  epochs=num_epochs, batch_size=1, verbose=0)\n",
    "  mae_history = history.history['val_mean_absolute_error']\n",
    " #val_mse, val_mae = model.evaluate(val_data, val_targets, verbose=0)\n",
    "  all_mae_histories.append(mae_history)"
   ]
  },
  {
   "cell_type": "code",
   "execution_count": 35,
   "metadata": {
    "colab": {
     "base_uri": "https://localhost:8080/",
     "height": 35
    },
    "colab_type": "code",
    "id": "XvYzQ0DnIOyP",
    "outputId": "80314241-96e4-4148-ff16-eb204328238c"
   },
   "outputs": [
    {
     "data": {
      "text/plain": [
       "4"
      ]
     },
     "execution_count": 35,
     "metadata": {
      "tags": []
     },
     "output_type": "execute_result"
    }
   ],
   "source": [
    "len(all_mae_histories)"
   ]
  },
  {
   "cell_type": "code",
   "execution_count": 0,
   "metadata": {
    "colab": {},
    "colab_type": "code",
    "id": "3iXnzSjW7HCk"
   },
   "outputs": [],
   "source": [
    "#average of the per-epoch MAE scores for all folds\n",
    "average_mae_history = [np.mean([x[i] for x in all_mae_histories])for i in range(num_epochs)]\n"
   ]
  },
  {
   "cell_type": "code",
   "execution_count": 39,
   "metadata": {
    "colab": {
     "base_uri": "https://localhost:8080/",
     "height": 361
    },
    "colab_type": "code",
    "id": "Dix0hityLo9c",
    "outputId": "a0826200-1c26-4f54-9b18-e51cb8211f4e"
   },
   "outputs": [
    {
     "data": {
      "image/png": "[encoded data removed]",
      "text/plain": [
       "<Figure size 576x396 with 1 Axes>"
      ]
     },
     "metadata": {
      "tags": []
     },
     "output_type": "display_data"
    }
   ],
   "source": [
    "import matplotlib.pyplot as plt\n",
    "plt.plot(range(1, len(average_mae_history) + 1), average_mae_history)\n",
    "plt.xlabel('Epochs')\n",
    "plt.ylabel('Validation MAE')\n",
    "plt.show()"
   ]
  },
  {
   "cell_type": "code",
   "execution_count": null,
   "metadata": {},
   "outputs": [],
   "source": [
    "def smooth_curve(points, factor=0.9): \n",
    "  smoothed_points = [] \n",
    "  for point in points: \n",
    "    if smoothed_points: \n",
    "      previous = smoothed_points[-1] \n",
    "      smoothed_points.append(previous * factor + point * (1 - factor)) \n",
    "    else: \n",
    "      smoothed_points.append(point) \n",
    "  return smoothed_points\n",
    "smooth_mae_history = smooth_curve(average_mae_history[10:])\n",
    "plt.plot(range(1, len(smooth_mae_history) + 1), smooth_mae_history) \n",
    "plt.xlabel('Epochs') \n",
    "plt.ylabel('Validation MAE') \n",
    "plt.show()\n"
   ]
  },
  {
   "cell_type": "code",
   "execution_count": null,
   "metadata": {},
   "outputs": [],
   "source": [
    "h=[]\n",
    "fac=0.9\n",
    "t=[1,2,3,4,5,6,7,8,9]\n",
    "for e in t:\n",
    "  if h:\n",
    "    pre=h[-1]\n",
    "    print(pre)\n",
    "    h.append(pre * fac + e * (1 - fac)) \n",
    "    print(pre)\n",
    "  else:\n",
    "    h.append(e)\n",
    "print(h)\n",
    "print(t[-1])\n",
    "print(len(smooth_mae_history))"
   ]
  },
  {
   "cell_type": "code",
   "execution_count": null,
   "metadata": {},
   "outputs": [],
   "source": [
    "#testing \n",
    "model=build_model()\n",
    "model.fit(train_data,train_targets,epochs=80,batch_size=16,verbose=0)\n",
    "test_mse_score,test_mae_score=model.evaluate(test_data,test_targets)\n",
    "\n"
   ]
  },
  {
   "cell_type": "code",
   "execution_count": null,
   "metadata": {},
   "outputs": [],
   "source": [
    "test_mae_score"
   ]
  }
 ],
 "metadata": {
  "colab": {
   "collapsed_sections": [],
   "name": "Hello, Colaboratory",
   "provenance": [],
   "version": "0.3.2"
  },
  "kernelspec": {
   "display_name": "Python 3",
   "language": "python",
   "name": "python3"
  },
  "language_info": {
   "codemirror_mode": {
    "name": "ipython",
    "version": 3
   },
   "file_extension": ".py",
   "mimetype": "text/x-python",
   "name": "python",
   "nbconvert_exporter": "python",
   "pygments_lexer": "ipython3",
   "version": "3.6.4"
  }
 },
 "nbformat": 4,
 "nbformat_minor": 1
}
