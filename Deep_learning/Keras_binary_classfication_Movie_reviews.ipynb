{
  "nbformat": 4,
  "nbformat_minor": 0,
  "metadata": {
    "colab": {
      "name": "Hello, Colaboratory",
      "version": "0.3.2",
      "provenance": [],
      "collapsed_sections": []
    },
    "kernelspec": {
      "display_name": "Python 3",
      "name": "python3"
    }
  },
  "cells": [
    {
      "metadata": {
        "colab_type": "text",
        "id": "9J7p406abzgl"
      },
      "cell_type": "markdown",
      "source": [
        "<img height=\"60px\" src=\"https://colab.research.google.com/img/colab_favicon.ico\" align=\"left\" hspace=\"20px\" vspace=\"5px\">\n",
        "\n",
        "<h1>Welcome to Colaboratory!</h1>\n",
        "Colaboratory is a free Jupyter notebook environment that requires no setup and runs entirely in the cloud. See our [FAQ](https://research.google.com/colaboratory/faq.html) for more info."
      ]
    },
    {
      "metadata": {
        "colab_type": "text",
        "id": "-Rh3-Vt9Nev9"
      },
      "cell_type": "markdown",
      "source": [
        "## Getting Started\n",
        "- [Overview of Colaboratory](/notebooks/basic_features_overview.ipynb)\n",
        "- [Loading and saving data: Local files, Drive, Sheets, Google Cloud Storage](/notebooks/io.ipynb)\n",
        "- [Importing libraries and installing dependencies](/notebooks/snippets/importing_libraries.ipynb)\n",
        "- [Using Google Cloud BigQuery](/notebooks/bigquery.ipynb)\n",
        "- [Forms](/notebooks/forms.ipynb), [Charts](/notebooks/charts.ipynb), [Markdown](/notebooks/markdown_guide.ipynb), & [Widgets](/notebooks/widgets.ipynb)\n",
        "- [TensorFlow with GPU](/notebooks/gpu.ipynb)\n",
        "- [TensorFlow with TPU](/notebooks/tpu.ipynb)\n",
        "- [Machine Learning Crash Course](https://developers.google.com/machine-learning/crash-course/): [Intro to Pandas](/notebooks/mlcc/intro_to_pandas.ipynb) & [First Steps with TensorFlow](/notebooks/mlcc/first_steps_with_tensor_flow.ipynb)\n",
        "- [Using Colab with GitHub](https://colab.research.google.com/github/googlecolab/colabtools/blob/master/notebooks/colab-github-demo.ipynb)\n"
      ]
    },
    {
      "metadata": {
        "id": "nxpjiccXkEYK",
        "colab_type": "code",
        "colab": {
          "base_uri": "https://localhost:8080/",
          "height": 85
        },
        "outputId": "dc99e284-2504-49df-a773-ca751899f997"
      },
      "cell_type": "code",
      "source": [
        "import numpy as np\n",
        "'''x=np.arange(18).reshape(6,3)\n",
        "#max([max(seq) for seq in x])\n",
        "for seq in x:\n",
        "  print(max(seq))'''\n",
        "x=np.arange(9,18).reshape(3,3)\n",
        "for ind,val in enumerate(x):\n",
        "  print(ind,\" \",val)\n",
        "x.ndim"
      ],
      "execution_count": 6,
      "outputs": [
        {
          "output_type": "stream",
          "text": [
            "0   [ 9 10 11]\n",
            "1   [12 13 14]\n",
            "2   [15 16 17]\n"
          ],
          "name": "stdout"
        },
        {
          "output_type": "execute_result",
          "data": {
            "text/plain": [
              "2"
            ]
          },
          "metadata": {
            "tags": []
          },
          "execution_count": 6
        }
      ]
    },
    {
      "metadata": {
        "id": "-B_WwlTCqa3p",
        "colab_type": "code",
        "colab": {
          "base_uri": "https://localhost:8080/",
          "height": 714
        },
        "outputId": "c2d59839-c6c8-4f0a-eb38-6f5a0ff80bd2"
      },
      "cell_type": "code",
      "source": [
        "from keras.datasets import imdb\n",
        "from keras import models,layers\n",
        "import numpy as np\n",
        "\n",
        "(train_data, train_labels), (test_data, test_labels) = imdb.load_data( num_words=10000)\n",
        "\n",
        "def vectorize_sequences(sequences, dimension=10000):\n",
        "  results = np.zeros((len(sequences), dimension)) \n",
        "  for i, sequence in enumerate(sequences): \n",
        "    results[i, sequence] = 1.\n",
        "  return results\n",
        "\n",
        "x_train = vectorize_sequences(train_data) \n",
        "x_test = vectorize_sequences(test_data)\n",
        "y_train = np.asarray(train_labels).astype('float32') \n",
        "y_test = np.asarray(test_labels).astype('float32')\n",
        "\n",
        "model = models.Sequential()\n",
        "model.add(layers.Dense(32, activation='relu', input_shape=(10000,))) \n",
        "model.add(layers.Dense(16, activation='relu')) \n",
        "model.add(layers.Dense(1, activation='sigmoid'))\n",
        "\n",
        "x_val = x_train[:10000] \n",
        "partial_x_train = x_train[10000:]\n",
        "y_val = y_train[:10000] \n",
        "partial_y_train = y_train[10000:]\n",
        "\n",
        "model.compile(optimizer='rmsprop', loss='binary_crossentropy', metrics=['acc'])\n",
        "history = model.fit(partial_x_train, partial_y_train, epochs=20, batch_size=512, validation_data=(x_val, y_val))\n",
        "\n"
      ],
      "execution_count": 44,
      "outputs": [
        {
          "output_type": "stream",
          "text": [
            "Train on 15000 samples, validate on 10000 samples\n",
            "Epoch 1/20\n",
            "15000/15000 [==============================] - 4s 257us/step - loss: 0.4860 - acc: 0.7882 - val_loss: 0.3452 - val_acc: 0.8803\n",
            "Epoch 2/20\n",
            "15000/15000 [==============================] - 3s 189us/step - loss: 0.2792 - acc: 0.9032 - val_loss: 0.2892 - val_acc: 0.8898\n",
            "Epoch 3/20\n",
            "15000/15000 [==============================] - 3s 189us/step - loss: 0.1996 - acc: 0.9314 - val_loss: 0.3484 - val_acc: 0.8543\n",
            "Epoch 4/20\n",
            "15000/15000 [==============================] - 3s 188us/step - loss: 0.1606 - acc: 0.9455 - val_loss: 0.2904 - val_acc: 0.8831\n",
            "Epoch 5/20\n",
            "15000/15000 [==============================] - 3s 188us/step - loss: 0.1280 - acc: 0.9576 - val_loss: 0.2939 - val_acc: 0.8845\n",
            "Epoch 6/20\n",
            "15000/15000 [==============================] - 3s 190us/step - loss: 0.0983 - acc: 0.9691 - val_loss: 0.3353 - val_acc: 0.8787\n",
            "Epoch 7/20\n",
            "15000/15000 [==============================] - 3s 188us/step - loss: 0.0866 - acc: 0.9713 - val_loss: 0.3353 - val_acc: 0.8815\n",
            "Epoch 8/20\n",
            "15000/15000 [==============================] - 3s 190us/step - loss: 0.0640 - acc: 0.9822 - val_loss: 0.4512 - val_acc: 0.8571\n",
            "Epoch 9/20\n",
            "15000/15000 [==============================] - 3s 189us/step - loss: 0.0525 - acc: 0.9859 - val_loss: 0.4031 - val_acc: 0.8725\n",
            "Epoch 10/20\n",
            "15000/15000 [==============================] - 3s 190us/step - loss: 0.0377 - acc: 0.9911 - val_loss: 0.4229 - val_acc: 0.8769\n",
            "Epoch 11/20\n",
            "15000/15000 [==============================] - 3s 188us/step - loss: 0.0323 - acc: 0.9924 - val_loss: 0.4543 - val_acc: 0.8769\n",
            "Epoch 12/20\n",
            "15000/15000 [==============================] - 3s 190us/step - loss: 0.0263 - acc: 0.9935 - val_loss: 0.5051 - val_acc: 0.8686\n",
            "Epoch 13/20\n",
            "15000/15000 [==============================] - 3s 189us/step - loss: 0.0216 - acc: 0.9951 - val_loss: 0.5179 - val_acc: 0.8733\n",
            "Epoch 14/20\n",
            "15000/15000 [==============================] - 3s 189us/step - loss: 0.0101 - acc: 0.9991 - val_loss: 0.6697 - val_acc: 0.8530\n",
            "Epoch 15/20\n",
            "15000/15000 [==============================] - 3s 189us/step - loss: 0.0095 - acc: 0.9989 - val_loss: 0.5874 - val_acc: 0.8705\n",
            "Epoch 16/20\n",
            "15000/15000 [==============================] - 3s 188us/step - loss: 0.0146 - acc: 0.9967 - val_loss: 0.6178 - val_acc: 0.8707\n",
            "Epoch 17/20\n",
            "15000/15000 [==============================] - 3s 189us/step - loss: 0.0035 - acc: 0.9999 - val_loss: 0.6604 - val_acc: 0.8663\n",
            "Epoch 18/20\n",
            "15000/15000 [==============================] - 3s 188us/step - loss: 0.0138 - acc: 0.9959 - val_loss: 0.6857 - val_acc: 0.8683\n",
            "Epoch 19/20\n",
            "15000/15000 [==============================] - 3s 188us/step - loss: 0.0018 - acc: 0.9999 - val_loss: 0.7084 - val_acc: 0.8670\n",
            "Epoch 20/20\n",
            "15000/15000 [==============================] - 3s 190us/step - loss: 0.0015 - acc: 0.9999 - val_loss: 0.7438 - val_acc: 0.8684\n"
          ],
          "name": "stdout"
        }
      ]
    },
    {
      "metadata": {
        "id": "G_nGTVMim8eV",
        "colab_type": "code",
        "colab": {
          "base_uri": "https://localhost:8080/",
          "height": 34
        },
        "outputId": "592faa62-42dd-433a-ef50-28d74f42a593"
      },
      "cell_type": "code",
      "source": [
        "history_dict = history.history\n",
        "history_dict.keys() "
      ],
      "execution_count": 19,
      "outputs": [
        {
          "output_type": "execute_result",
          "data": {
            "text/plain": [
              "dict_keys(['val_loss', 'val_acc', 'loss', 'acc'])"
            ]
          },
          "metadata": {
            "tags": []
          },
          "execution_count": 19
        }
      ]
    },
    {
      "metadata": {
        "id": "XxV06L94rIez",
        "colab_type": "code",
        "colab": {
          "base_uri": "https://localhost:8080/",
          "height": 735
        },
        "outputId": "bd795a98-1b41-46f1-c082-71e07b492f55"
      },
      "cell_type": "code",
      "source": [
        "import matplotlib.pyplot as plt\n",
        "history_dict = history.history \n",
        "loss_values = history_dict['loss']\n",
        "val_loss_values = history_dict['val_loss']\n",
        "epochs = range(1, len(history_dict['acc']) + 1)\n",
        "plt.plot(epochs, loss_values, 'bo', label='Training loss') \n",
        "plt.plot(epochs, val_loss_values, 'b', label='Validation loss') \n",
        "plt.title('Training and validation loss')\n",
        "plt.xlabel('Epochs') \n",
        "plt.ylabel('Loss') \n",
        "plt.legend()\n",
        "plt.show()\n",
        "\n",
        "plt.clf() \n",
        "acc_values = history_dict['acc'] \n",
        "val_acc_values = history_dict['val_acc']\n",
        "plt.plot(epochs, acc_values, 'bo', label='Training acc') \n",
        "plt.plot(epochs, val_acc_values, 'b', label='Validation acc')\n",
        "plt.title('Training and validation accuracy')\n",
        "plt.xlabel('Epochs') \n",
        "plt.ylabel('Loss') \n",
        "plt.legend()\n",
        "plt.show()\n",
        "\n"
      ],
      "execution_count": 43,
      "outputs": [
        {
          "output_type": "display_data",
          "data": {
            "image/png": "[encoded data removed]",
            "text/plain": [
              "<Figure size 576x396 with 1 Axes>"
            ]
          },
          "metadata": {
            "tags": []
          }
        },
        {
          "output_type": "display_data",
          "data": {
            "image/png": "[encoded data removed]",
            "text/plain": [
              "<Figure size 576x396 with 1 Axes>"
            ]
          },
          "metadata": {
            "tags": []
          }
        }
      ]
    },
    {
      "metadata": {
        "colab_type": "text",
        "id": "1fr51oVCHRZU"
      },
      "cell_type": "markdown",
      "source": [
        "## Highlighted Features\n",
        "### Seedbank\n",
        "\n",
        "Looking for Colab notebooks to learn from? Check out [Seedbank](https://tools.google.com/seedbank/), a place to discover interactive machine learning examples."
      ]
    },
    {
      "metadata": {
        "colab_type": "text",
        "id": "9wi5kfGdhK0R"
      },
      "cell_type": "markdown",
      "source": [
        "### TensorFlow execution"
      ]
    },
    {
      "metadata": {
        "id": "UcxqUwA5G9wJ",
        "colab_type": "code",
        "colab": {}
      },
      "cell_type": "code",
      "source": [
        ""
      ],
      "execution_count": 0,
      "outputs": []
    },
    {
      "metadata": {
        "colab_type": "text",
        "id": "S9GW-n-oYWIj"
      },
      "cell_type": "markdown",
      "source": [
        "Colaboratory allows you to execute TensorFlow code in your browser with a single click. The example below adds two matrices.\n",
        "\n",
        "$\\begin{bmatrix}\n",
        "  1. & 1. & 1. \\\\\n",
        "  1. & 1. & 1. \\\\\n",
        "\\end{bmatrix} +\n",
        "\\begin{bmatrix}\n",
        "  1. & 2. & 3. \\\\\n",
        "  4. & 5. & 6. \\\\\n",
        "\\end{bmatrix} =\n",
        "\\begin{bmatrix}\n",
        "  2. & 3. & 4. \\\\\n",
        "  5. & 6. & 7. \\\\\n",
        "\\end{bmatrix}$"
      ]
    },
    {
      "metadata": {
        "colab_type": "code",
        "id": "oYZkU7ZN3CL0",
        "outputId": "9589151d-5ff4-4bca-f05e-8bcba8ffcba1",
        "colab": {
          "base_uri": "https://localhost:8080/",
          "height": 53
        }
      },
      "cell_type": "code",
      "source": [
        "import tensorflow as tf\n",
        "\n",
        "input1 = tf.ones((2, 3))\n",
        "input2 = tf.reshape(tf.range(1, 7, dtype=tf.float32), (2, 3))\n",
        "output = input1 + input2\n",
        "\n",
        "with tf.Session():\n",
        "  result = output.eval()\n",
        "result  "
      ],
      "execution_count": 0,
      "outputs": [
        {
          "output_type": "execute_result",
          "data": {
            "text/plain": [
              "array([[2., 3., 4.],\n",
              "       [5., 6., 7.]], dtype=float32)"
            ]
          },
          "metadata": {
            "tags": []
          },
          "execution_count": 0
        }
      ]
    },
    {
      "metadata": {
        "colab_type": "text",
        "id": "nwYF0E3Sjiy4"
      },
      "cell_type": "markdown",
      "source": [
        "### GitHub\n",
        "\n",
        "For a full discussion of interactions between Colab and GitHub, see [Using Colab with GitHub](https://colab.research.google.com/github/googlecolab/colabtools/blob/master/notebooks/colab-github-demo.ipynb). As a brief summary:\n",
        "\n",
        "To save a copy of your Colab notebook to Github, select *File → Save a copy to GitHub…*\n",
        "\n",
        "To load a specific notebook from github, append the github path to http://colab.research.google.com/github/.\n",
        "For example to load this notebook in Colab: [https://github.com/tensorflow/docs/blob/master/site/en/tutorials/_index.ipynb](https://github.com/tensorflow/docs/blob/master/site/en/tutorials/_index.ipynb) use the following Colab URL: [https://colab.research.google.com/github/tensorflow/docs/blob/master/site/en/tutorials/_index.ipynb](https://colab.research.google.com/github/tensorflow/docs/blob/master/site/en/tutorials/_index.ipynb)\n",
        "\n",
        "To open a github notebook in one click, we recommend installing the [Open in Colab Chrome Extension](https://chrome.google.com/webstore/detail/open-in-colab/iogfkhleblhcpcekbiedikdehleodpjo).\n",
        "\n"
      ]
    },
    {
      "metadata": {
        "colab_type": "text",
        "id": "yv2XIwi5hQ_g"
      },
      "cell_type": "markdown",
      "source": [
        "### Visualization"
      ]
    },
    {
      "metadata": {
        "colab_type": "text",
        "id": "rYs5mx2JZkmy"
      },
      "cell_type": "markdown",
      "source": [
        "Colaboratory includes widely used libraries like [matplotlib](https://matplotlib.org/), simplifying visualization."
      ]
    },
    {
      "metadata": {
        "colab_type": "code",
        "id": "xqrc5C-IaA5J",
        "outputId": "3460cc84-faf8-4d8c-a4e6-96a6809c389a",
        "colab": {
          "height": 360
        }
      },
      "cell_type": "code",
      "source": [
        "import matplotlib.pyplot as plt\n",
        "import numpy as np\n",
        "\n",
        "x = np.arange(20)\n",
        "y = [x_i + np.random.randn(1) for x_i in x]\n",
        "a, b = np.polyfit(x, y, 1)\n",
        "_ = plt.plot(x, y, 'o', np.arange(20), a*np.arange(20)+b, '-')"
      ],
      "execution_count": 0,
      "outputs": [
        {
          "output_type": "display_data",
          "data": {
            "image/png": "[encoded data removed]",
            "text/plain": [
              "<matplotlib.figure.Figure at 0x562d64cf1b10>"
            ]
          },
          "metadata": {
            "tags": []
          }
        }
      ]
    },
    {
      "metadata": {
        "colab_type": "text",
        "id": "AN_LRQ9NkOjs"
      },
      "cell_type": "markdown",
      "source": [
        "Want to use a new library?  `pip install` it at the top of the notebook. Then that library can be used anywhere else in the notebook. For recipes to import commonly used libraries, refer to the [importing libraries example notebook](/notebooks/snippets/importing_libraries.ipynb)."
      ]
    },
    {
      "metadata": {
        "colab_type": "code",
        "id": "FlQq0SUepQbd",
        "outputId": "6e404831-3336-4633-b76f-c6313ecdd356",
        "colab": {
          "base_uri": "https://localhost:8080/",
          "height": 349
        }
      },
      "cell_type": "code",
      "source": [
        "!pip install -q matplotlib-venn\n",
        "\n",
        "from matplotlib_venn import venn2\n",
        "_ = venn2(subsets = (3, 2, 1))"
      ],
      "execution_count": 0,
      "outputs": [
        {
          "output_type": "display_data",
          "data": {
            "image/png": "[encoded data removed]",
            "text/plain": [
              "<matplotlib.figure.Figure at 0x7f48ff99ff10>"
            ]
          },
          "metadata": {
            "tags": []
          }
        }
      ]
    },
    {
      "metadata": {
        "colab_type": "text",
        "id": "LxZ3dPzYnyNF"
      },
      "cell_type": "markdown",
      "source": [
        "### Forms\n",
        "\n",
        "Forms can be used to parameterize code. See the [forms example notebook](/notebooks/forms.ipynb) for more details."
      ]
    },
    {
      "metadata": {
        "colab_type": "code",
        "id": "FQ_Hx_9tn7uF",
        "colab": {}
      },
      "cell_type": "code",
      "source": [
        "#@title Examples\n",
        "\n",
        "text = 'value' #@param \n",
        "date_input = '2018-03-22' #@param {type:\"date\"}\n",
        "number_slider = 0 #@param {type:\"slider\", min:-1, max:1, step:0.1}\n",
        "dropdown = '1st option' #@param [\"1st option\", \"2nd option\", \"3rd option\"]\n"
      ],
      "execution_count": 0,
      "outputs": []
    },
    {
      "metadata": {
        "colab_type": "text",
        "id": "rTX3heEtu0b2"
      },
      "cell_type": "markdown",
      "source": [
        "### Local runtime support\n",
        "\n",
        "Colab  supports connecting to a Jupyter runtime on your local machine. For more information, see our [documentation](https://research.google.com/colaboratory/local-runtimes.html)."
      ]
    }
  ]
}