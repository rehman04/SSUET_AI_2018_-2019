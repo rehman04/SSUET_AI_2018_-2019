{
 "cells": [
  {
   "cell_type": "code",
   "execution_count": 9,
   "metadata": {},
   "outputs": [
    {
     "data": {
      "application/vnd.jupyter.widget-view+json": {
       "model_id": "20ea2fa5c49b43d0a4c5ea06f2730b4a",
       "version_major": 2,
       "version_minor": 0
      },
      "text/html": [
       "<p>Failed to display Jupyter Widget of type <code>Button</code>.</p>\n",
       "<p>\n",
       "  If you're reading this message in the Jupyter Notebook or JupyterLab Notebook, it may mean\n",
       "  that the widgets JavaScript is still loading. If this message persists, it\n",
       "  likely means that the widgets JavaScript library is either not installed or\n",
       "  not enabled. See the <a href=\"https://ipywidgets.readthedocs.io/en/stable/user_install.html\">Jupyter\n",
       "  Widgets Documentation</a> for setup instructions.\n",
       "</p>\n",
       "<p>\n",
       "  If you're reading this message in another frontend (for example, a static\n",
       "  rendering on GitHub or <a href=\"https://nbviewer.jupyter.org/\">NBViewer</a>),\n",
       "  it may mean that your frontend doesn't currently support widgets.\n",
       "</p>\n"
      ],
      "text/plain": [
       "Button(description='Hello World', style=ButtonStyle())"
      ]
     },
     "metadata": {},
     "output_type": "display_data"
    }
   ],
   "source": [
    "import ipywidgets as wi \n",
    "button=wi.Button(\n",
    "    description='Hello World',\n",
    "    width=100,\n",
    "    height='2em',\n",
    "    color='lime',\n",
    "    background_color='red',\n",
    "    border_color='cyan')\n",
    "display(button)"
   ]
  },
  {
   "cell_type": "code",
   "execution_count": 5,
   "metadata": {},
   "outputs": [
    {
     "data": {
      "application/vnd.jupyter.widget-view+json": {
       "model_id": "6a94fd9341d844d38dad42900f918a58",
       "version_major": 2,
       "version_minor": 0
      },
      "text/html": [
       "<p>Failed to display Jupyter Widget of type <code>Box</code>.</p>\n",
       "<p>\n",
       "  If you're reading this message in the Jupyter Notebook or JupyterLab Notebook, it may mean\n",
       "  that the widgets JavaScript is still loading. If this message persists, it\n",
       "  likely means that the widgets JavaScript library is either not installed or\n",
       "  not enabled. See the <a href=\"https://ipywidgets.readthedocs.io/en/stable/user_install.html\">Jupyter\n",
       "  Widgets Documentation</a> for setup instructions.\n",
       "</p>\n",
       "<p>\n",
       "  If you're reading this message in another frontend (for example, a static\n",
       "  rendering on GitHub or <a href=\"https://nbviewer.jupyter.org/\">NBViewer</a>),\n",
       "  it may mean that your frontend doesn't currently support widgets.\n",
       "</p>\n"
      ],
      "text/plain": [
       "Box(children=(FloatSlider(value=0.0), Text(value='hi')))"
      ]
     },
     "metadata": {},
     "output_type": "display_data"
    }
   ],
   "source": [
    "float_range=wi.FloatSlider()\n",
    "string_type=wi.Text(value='hi')\n",
    "container=wi.Box(children=[float_range,string_type])\n",
    "container.border_color='red'\n",
    "container.border_style='dotted'\n",
    "container.border_width=3\n",
    "display(container)"
   ]
  },
  {
   "cell_type": "code",
   "execution_count": 9,
   "metadata": {},
   "outputs": [
    {
     "data": {
      "application/vnd.jupyter.widget-view+json": {
       "model_id": "6a1a01a406bf4ce986af5c16293b186b",
       "version_major": 2,
       "version_minor": 0
      },
      "text/html": [
       "<p>Failed to display Jupyter Widget of type <code>Accordion</code>.</p>\n",
       "<p>\n",
       "  If you're reading this message in the Jupyter Notebook or JupyterLab Notebook, it may mean\n",
       "  that the widgets JavaScript is still loading. If this message persists, it\n",
       "  likely means that the widgets JavaScript library is either not installed or\n",
       "  not enabled. See the <a href=\"https://ipywidgets.readthedocs.io/en/stable/user_install.html\">Jupyter\n",
       "  Widgets Documentation</a> for setup instructions.\n",
       "</p>\n",
       "<p>\n",
       "  If you're reading this message in another frontend (for example, a static\n",
       "  rendering on GitHub or <a href=\"https://nbviewer.jupyter.org/\">NBViewer</a>),\n",
       "  it may mean that your frontend doesn't currently support widgets.\n",
       "</p>\n"
      ],
      "text/plain": [
       "Accordion(children=(Box(children=(Text(value=''), BoundedIntText(value=0, description='zip', max=9999))), Box(children=(Text(value=''), BoundedIntText(value=0, description='zip', max=9999)))))"
      ]
     },
     "metadata": {},
     "output_type": "display_data"
    }
   ],
   "source": [
    "name1=wi.Text(descripttion='Location:')\n",
    "zip1=wi.BoundedIntText(description='zip',min=0,max=9999)\n",
    "page1=wi.Box(children=[name1,zip1])\n",
    "\n",
    "name2=wi.Text(descripttion='Location:')\n",
    "zip2=wi.BoundedIntText(description='zip',min=0,max=9999)\n",
    "page2=wi.Box(children=[name2,zip2])\n",
    "\n",
    "accor=wi.Accordion(children=[page1,page2],width=50)\n",
    "display(accor)\n",
    "accor.set_title(0,'From')\n",
    "accor.set_title(1,'To')"
   ]
  },
  {
   "cell_type": "code",
   "execution_count": 12,
   "metadata": {},
   "outputs": [
    {
     "data": {
      "application/vnd.jupyter.widget-view+json": {
       "model_id": "2e35bd4d3f2a4ff88eb10451841ca7e9",
       "version_major": 2,
       "version_minor": 0
      },
      "text/html": [
       "<p>Failed to display Jupyter Widget of type <code>Tab</code>.</p>\n",
       "<p>\n",
       "  If you're reading this message in the Jupyter Notebook or JupyterLab Notebook, it may mean\n",
       "  that the widgets JavaScript is still loading. If this message persists, it\n",
       "  likely means that the widgets JavaScript library is either not installed or\n",
       "  not enabled. See the <a href=\"https://ipywidgets.readthedocs.io/en/stable/user_install.html\">Jupyter\n",
       "  Widgets Documentation</a> for setup instructions.\n",
       "</p>\n",
       "<p>\n",
       "  If you're reading this message in another frontend (for example, a static\n",
       "  rendering on GitHub or <a href=\"https://nbviewer.jupyter.org/\">NBViewer</a>),\n",
       "  it may mean that your frontend doesn't currently support widgets.\n",
       "</p>\n"
      ],
      "text/plain": [
       "Tab(children=(Box(children=(Text(value='', description='Name'), Dropdown(description='color', options=('red', 'orange', 'green', 'yellow'), value='red'))), Box(children=(IntSlider(value=60, description='Age', max=120), RadioButtons(description='Gender', options=('Male', 'Female'), value='Male')))))"
      ]
     },
     "metadata": {},
     "output_type": "display_data"
    }
   ],
   "source": [
    "name1=wi.Text(description='Name',padding=4)\n",
    "color=wi.Dropdown(description='color',padding=4,options=['red','orange','green','yellow'])\n",
    "page1=wi.Box(children=[name1,color],padding=4)\n",
    "\n",
    "age=wi.IntSlider(description='Age',padding=4,min=0,max=120,value=60)\n",
    "gender=wi.RadioButtons(description='Gender',padding=4,options=['Male','Female'])\n",
    "page2=wi.Box(children=[age,gender])\n",
    "\n",
    "tabs=wi.Tab(children=[page1,page2])\n",
    "display(tabs)\n",
    "tabs.set_title(0,'Name')\n",
    "tabs.set_title(1,'Details')"
   ]
  },
  {
   "cell_type": "code",
   "execution_count": 13,
   "metadata": {},
   "outputs": [],
   "source": [
    "#different boxes"
   ]
  },
  {
   "cell_type": "code",
   "execution_count": 18,
   "metadata": {},
   "outputs": [
    {
     "data": {
      "application/vnd.jupyter.widget-view+json": {
       "model_id": "90f7b25ca96a49b2b21ae6eb5f821381",
       "version_major": 2,
       "version_minor": 0
      },
      "text/html": [
       "<p>Failed to display Jupyter Widget of type <code>Button</code>.</p>\n",
       "<p>\n",
       "  If you're reading this message in the Jupyter Notebook or JupyterLab Notebook, it may mean\n",
       "  that the widgets JavaScript is still loading. If this message persists, it\n",
       "  likely means that the widgets JavaScript library is either not installed or\n",
       "  not enabled. See the <a href=\"https://ipywidgets.readthedocs.io/en/stable/user_install.html\">Jupyter\n",
       "  Widgets Documentation</a> for setup instructions.\n",
       "</p>\n",
       "<p>\n",
       "  If you're reading this message in another frontend (for example, a static\n",
       "  rendering on GitHub or <a href=\"https://nbviewer.jupyter.org/\">NBViewer</a>),\n",
       "  it may mean that your frontend doesn't currently support widgets.\n",
       "</p>\n"
      ],
      "text/plain": [
       "Button(description='0', style=ButtonStyle())"
      ]
     },
     "metadata": {},
     "output_type": "display_data"
    },
    {
     "data": {
      "application/vnd.jupyter.widget-view+json": {
       "model_id": "f541efb5ac8c40989e15bc4d04287470",
       "version_major": 2,
       "version_minor": 0
      },
      "text/html": [
       "<p>Failed to display Jupyter Widget of type <code>Button</code>.</p>\n",
       "<p>\n",
       "  If you're reading this message in the Jupyter Notebook or JupyterLab Notebook, it may mean\n",
       "  that the widgets JavaScript is still loading. If this message persists, it\n",
       "  likely means that the widgets JavaScript library is either not installed or\n",
       "  not enabled. See the <a href=\"https://ipywidgets.readthedocs.io/en/stable/user_install.html\">Jupyter\n",
       "  Widgets Documentation</a> for setup instructions.\n",
       "</p>\n",
       "<p>\n",
       "  If you're reading this message in another frontend (for example, a static\n",
       "  rendering on GitHub or <a href=\"https://nbviewer.jupyter.org/\">NBViewer</a>),\n",
       "  it may mean that your frontend doesn't currently support widgets.\n",
       "</p>\n"
      ],
      "text/plain": [
       "Button(description='1', style=ButtonStyle())"
      ]
     },
     "metadata": {},
     "output_type": "display_data"
    },
    {
     "data": {
      "application/vnd.jupyter.widget-view+json": {
       "model_id": "07b060f642fb4a57bcf0f9b09f0aed50",
       "version_major": 2,
       "version_minor": 0
      },
      "text/html": [
       "<p>Failed to display Jupyter Widget of type <code>Button</code>.</p>\n",
       "<p>\n",
       "  If you're reading this message in the Jupyter Notebook or JupyterLab Notebook, it may mean\n",
       "  that the widgets JavaScript is still loading. If this message persists, it\n",
       "  likely means that the widgets JavaScript library is either not installed or\n",
       "  not enabled. See the <a href=\"https://ipywidgets.readthedocs.io/en/stable/user_install.html\">Jupyter\n",
       "  Widgets Documentation</a> for setup instructions.\n",
       "</p>\n",
       "<p>\n",
       "  If you're reading this message in another frontend (for example, a static\n",
       "  rendering on GitHub or <a href=\"https://nbviewer.jupyter.org/\">NBViewer</a>),\n",
       "  it may mean that your frontend doesn't currently support widgets.\n",
       "</p>\n"
      ],
      "text/plain": [
       "Button(description='2', style=ButtonStyle())"
      ]
     },
     "metadata": {},
     "output_type": "display_data"
    },
    {
     "data": {
      "application/vnd.jupyter.widget-view+json": {
       "model_id": "fe08ca3fa66a4b1ca62b503fdfb165e9",
       "version_major": 2,
       "version_minor": 0
      },
      "text/html": [
       "<p>Failed to display Jupyter Widget of type <code>HBox</code>.</p>\n",
       "<p>\n",
       "  If you're reading this message in the Jupyter Notebook or JupyterLab Notebook, it may mean\n",
       "  that the widgets JavaScript is still loading. If this message persists, it\n",
       "  likely means that the widgets JavaScript library is either not installed or\n",
       "  not enabled. See the <a href=\"https://ipywidgets.readthedocs.io/en/stable/user_install.html\">Jupyter\n",
       "  Widgets Documentation</a> for setup instructions.\n",
       "</p>\n",
       "<p>\n",
       "  If you're reading this message in another frontend (for example, a static\n",
       "  rendering on GitHub or <a href=\"https://nbviewer.jupyter.org/\">NBViewer</a>),\n",
       "  it may mean that your frontend doesn't currently support widgets.\n",
       "</p>\n"
      ],
      "text/plain": [
       "HBox(children=(Button(description='0', style=ButtonStyle()), Button(description='1', style=ButtonStyle()), Button(description='2', style=ButtonStyle())))"
      ]
     },
     "metadata": {},
     "output_type": "display_data"
    }
   ],
   "source": [
    "buttons=[wi.Button(description=str(i)) for i in range(3)]\n",
    "display(*buttons)\n",
    "container=wi.HBox(children=buttons)\n",
    "display(container)"
   ]
  },
  {
   "cell_type": "code",
   "execution_count": 19,
   "metadata": {},
   "outputs": [],
   "source": [
    "#visibility none,False,True"
   ]
  },
  {
   "cell_type": "code",
   "execution_count": 22,
   "metadata": {},
   "outputs": [
    {
     "data": {
      "application/vnd.jupyter.widget-view+json": {
       "model_id": "49a8d8954bdf43e39708e37f9f65bce3",
       "version_major": 2,
       "version_minor": 0
      },
      "text/html": [
       "<p>Failed to display Jupyter Widget of type <code>VBox</code>.</p>\n",
       "<p>\n",
       "  If you're reading this message in the Jupyter Notebook or JupyterLab Notebook, it may mean\n",
       "  that the widgets JavaScript is still loading. If this message persists, it\n",
       "  likely means that the widgets JavaScript library is either not installed or\n",
       "  not enabled. See the <a href=\"https://ipywidgets.readthedocs.io/en/stable/user_install.html\">Jupyter\n",
       "  Widgets Documentation</a> for setup instructions.\n",
       "</p>\n",
       "<p>\n",
       "  If you're reading this message in another frontend (for example, a static\n",
       "  rendering on GitHub or <a href=\"https://nbviewer.jupyter.org/\">NBViewer</a>),\n",
       "  it may mean that your frontend doesn't currently support widgets.\n",
       "</p>\n"
      ],
      "text/plain": [
       "VBox(children=(Text(value='', description='First Name:'), Text(value='', description='Last Name:'), Checkbox(value=False, description='Student:'), VBox(children=(Text(value='', description='School:'), IntText(value=0, description='Grade'))), Text(value='')))"
      ]
     },
     "metadata": {},
     "output_type": "display_data"
    },
    {
     "name": "stderr",
     "output_type": "stream",
     "text": [
      "d:\\Anaconda3\\lib\\site-packages\\ipykernel_launcher.py:14: DeprecationWarning: on_trait_change is deprecated in traitlets 4.1: use observe instead\n",
      "  \n"
     ]
    }
   ],
   "source": [
    "form=wi.VBox()\n",
    "first=wi.Text(description='First Name:')\n",
    "last=wi.Text(description='Last Name:')\n",
    "student=wi.Checkbox(description='Student:',value=False)\n",
    "student_info=wi.VBox(visible=False,children=[wi.Text(description='School:'),wi.IntText(description='Grade',min=0,max=12)])\n",
    "pet=wi.Text(descrption='Pet Name:',padding=100)\n",
    "form.children=[first,last,student,student_info,pet]\n",
    "display(form)\n",
    "def on_toggle(name,value):\n",
    "    if value:\n",
    "        student_info.visible=True\n",
    "    else:\n",
    "        student_info.visible=False\n",
    "student.on_trait_change(on_toggle,'value')"
   ]
  },
  {
   "cell_type": "code",
   "execution_count": 1,
   "metadata": {},
   "outputs": [],
   "source": [
    "#print([if i%2==0: i; else: i+1; for i in range(4)])"
   ]
  },
  {
   "cell_type": "code",
   "execution_count": 2,
   "metadata": {},
   "outputs": [
    {
     "name": "stdout",
     "output_type": "stream",
     "text": [
      "sir Arthur\n"
     ]
    }
   ],
   "source": [
    "def Writer():\n",
    "    title='sir'\n",
    "    name=(lambda x:title+' '+x)\n",
    "    return name\n",
    "who=Writer()\n",
    "print(who('Arthur'))"
   ]
  },
  {
   "cell_type": "markdown",
   "metadata": {},
   "source": [
    "%matplotlib inline\n",
    "import numpy as np #  linear algebra library\n",
    "from scipy import integrate # scientific computing library\n",
    "from matplotlib import pyplot as plt # for graph ploting\n",
    "from mpl_toolkits.mplot3d import Axes3D  # 3d representation\n",
    "from matplotlib.colors import cnames # color names\n",
    "from matplotlib import animation # for anime\n",
    "from ipywidgets import interact,interactive\n",
    "from IPython.display import display,clear_output,HTML\n",
    "\n",
    "fig=plt.figure();\n",
    "ax=fig.add_axes([0,1,0,1],projection='3d')\n",
    "ax.axis('on')"
   ]
  },
  {
   "cell_type": "code",
   "execution_count": 7,
   "metadata": {},
   "outputs": [],
   "source": [
    "%matplotlib inline\n",
    "import numpy as np #  linear algebra library\n",
    "from scipy import integrate # scientific computing library\n",
    "from matplotlib import pyplot as plt # for graph ploting\n",
    "from mpl_toolkits.mplot3d import Axes3D  # 3d representation\n",
    "from matplotlib.colors import cnames # color names\n",
    "from matplotlib import animation # for anime\n",
    "from ipywidgets import interact,interactive\n",
    "from IPython.display import display,clear_output,HTML\n",
    "\n",
    "def solve_lorenz(N=10,angle=0.0,max_time=4.0,sigma=10.0,beta=8./3,rho=28.0):\n",
    "    fig=plt.figure();\n",
    "    ax=fig.add_axes([0,0,1,1],projection='3d')\n",
    "    ax.axis('off')\n",
    "    ax.set_xlim((-25,25))\n",
    "    ax.set_ylim((-35,35))\n",
    "    ax.set_zlim((5,55))\n",
    "\n",
    "    def lorenz_derivative(x_y_z,t0,sigma=sigma,beta=beta,rho=rho):\n",
    "        x,y,z=x_y_z\n",
    "        return [sigma*(y-x),(rho*x)-(y)-(x*z),(x*y)-(beta*z)]\n",
    "    np.random.seed(1)\n",
    "    x0=-15+30*np.random.random((N,3))\n",
    "    t=np.linspace(0,max_time,int(250*max_time))#(start,end,number of samples)//general trajectories\n",
    "    x_t=np.asarray([integrate.odeint(lorenz_derivative,x0i,t) for x0i in x0])#for give initial value we use this odeint\n",
    "    colors=plt.cm.jet(np.linspace(0,1,N))#color map jet, for every line different color\n",
    "    \n",
    "    for i in range(N):\n",
    "        x,y,z=x_t[i,:,:].T\n",
    "        lines=ax.plot(x,y,z,'-',c=colors[i])\n",
    "        plt.setp(lines,linewidth=5)\n",
    "    ax.view_init(30,angle)\n",
    "    _=plt.show();\n",
    "    \n",
    "    return t,x_t\n",
    "\n",
    "    "
   ]
  },
  {
   "cell_type": "code",
   "execution_count": 10,
   "metadata": {},
   "outputs": [
    {
     "data": {
      "image/png": "[encoded data removed]",
      "text/plain": [
       "<matplotlib.figure.Figure at 0x241f52a2c18>"
      ]
     },
     "metadata": {},
     "output_type": "display_data"
    },
    {
     "data": {
      "text/plain": [
       "(array([0.        , 0.004004  , 0.00800801, 0.01201201, 0.01601602,\n",
       "        0.02002002, 0.02402402, 0.02802803, 0.03203203, 0.03603604,\n",
       "        0.04004004, 0.04404404, 0.04804805, 0.05205205, 0.05605606,\n",
       "        0.06006006, 0.06406406, 0.06806807, 0.07207207, 0.07607608,\n",
       "        0.08008008, 0.08408408, 0.08808809, 0.09209209, 0.0960961 ,\n",
       "        0.1001001 , 0.1041041 , 0.10810811, 0.11211211, 0.11611612,\n",
       "        0.12012012, 0.12412412, 0.12812813, 0.13213213, 0.13613614,\n",
       "        0.14014014, 0.14414414, 0.14814815, 0.15215215, 0.15615616,\n",
       "        0.16016016, 0.16416416, 0.16816817, 0.17217217, 0.17617618,\n",
       "        0.18018018, 0.18418418, 0.18818819, 0.19219219, 0.1961962 ,\n",
       "        0.2002002 , 0.2042042 , 0.20820821, 0.21221221, 0.21621622,\n",
       "        0.22022022, 0.22422422, 0.22822823, 0.23223223, 0.23623624,\n",
       "        0.24024024, 0.24424424, 0.24824825, 0.25225225, 0.25625626,\n",
       "        0.26026026, 0.26426426, 0.26826827, 0.27227227, 0.27627628,\n",
       "        0.28028028, 0.28428428, 0.28828829, 0.29229229, 0.2962963 ,\n",
       "        0.3003003 , 0.3043043 , 0.30830831, 0.31231231, 0.31631632,\n",
       "        0.32032032, 0.32432432, 0.32832833, 0.33233233, 0.33633634,\n",
       "        0.34034034, 0.34434434, 0.34834835, 0.35235235, 0.35635636,\n",
       "        0.36036036, 0.36436436, 0.36836837, 0.37237237, 0.37637638,\n",
       "        0.38038038, 0.38438438, 0.38838839, 0.39239239, 0.3963964 ,\n",
       "        0.4004004 , 0.4044044 , 0.40840841, 0.41241241, 0.41641642,\n",
       "        0.42042042, 0.42442442, 0.42842843, 0.43243243, 0.43643644,\n",
       "        0.44044044, 0.44444444, 0.44844845, 0.45245245, 0.45645646,\n",
       "        0.46046046, 0.46446446, 0.46846847, 0.47247247, 0.47647648,\n",
       "        0.48048048, 0.48448448, 0.48848849, 0.49249249, 0.4964965 ,\n",
       "        0.5005005 , 0.5045045 , 0.50850851, 0.51251251, 0.51651652,\n",
       "        0.52052052, 0.52452452, 0.52852853, 0.53253253, 0.53653654,\n",
       "        0.54054054, 0.54454454, 0.54854855, 0.55255255, 0.55655656,\n",
       "        0.56056056, 0.56456456, 0.56856857, 0.57257257, 0.57657658,\n",
       "        0.58058058, 0.58458458, 0.58858859, 0.59259259, 0.5965966 ,\n",
       "        0.6006006 , 0.6046046 , 0.60860861, 0.61261261, 0.61661662,\n",
       "        0.62062062, 0.62462462, 0.62862863, 0.63263263, 0.63663664,\n",
       "        0.64064064, 0.64464464, 0.64864865, 0.65265265, 0.65665666,\n",
       "        0.66066066, 0.66466466, 0.66866867, 0.67267267, 0.67667668,\n",
       "        0.68068068, 0.68468468, 0.68868869, 0.69269269, 0.6966967 ,\n",
       "        0.7007007 , 0.7047047 , 0.70870871, 0.71271271, 0.71671672,\n",
       "        0.72072072, 0.72472472, 0.72872873, 0.73273273, 0.73673674,\n",
       "        0.74074074, 0.74474474, 0.74874875, 0.75275275, 0.75675676,\n",
       "        0.76076076, 0.76476476, 0.76876877, 0.77277277, 0.77677678,\n",
       "        0.78078078, 0.78478478, 0.78878879, 0.79279279, 0.7967968 ,\n",
       "        0.8008008 , 0.8048048 , 0.80880881, 0.81281281, 0.81681682,\n",
       "        0.82082082, 0.82482482, 0.82882883, 0.83283283, 0.83683684,\n",
       "        0.84084084, 0.84484484, 0.84884885, 0.85285285, 0.85685686,\n",
       "        0.86086086, 0.86486486, 0.86886887, 0.87287287, 0.87687688,\n",
       "        0.88088088, 0.88488488, 0.88888889, 0.89289289, 0.8968969 ,\n",
       "        0.9009009 , 0.9049049 , 0.90890891, 0.91291291, 0.91691692,\n",
       "        0.92092092, 0.92492492, 0.92892893, 0.93293293, 0.93693694,\n",
       "        0.94094094, 0.94494494, 0.94894895, 0.95295295, 0.95695696,\n",
       "        0.96096096, 0.96496496, 0.96896897, 0.97297297, 0.97697698,\n",
       "        0.98098098, 0.98498498, 0.98898899, 0.99299299, 0.996997  ,\n",
       "        1.001001  , 1.00500501, 1.00900901, 1.01301301, 1.01701702,\n",
       "        1.02102102, 1.02502503, 1.02902903, 1.03303303, 1.03703704,\n",
       "        1.04104104, 1.04504505, 1.04904905, 1.05305305, 1.05705706,\n",
       "        1.06106106, 1.06506507, 1.06906907, 1.07307307, 1.07707708,\n",
       "        1.08108108, 1.08508509, 1.08908909, 1.09309309, 1.0970971 ,\n",
       "        1.1011011 , 1.10510511, 1.10910911, 1.11311311, 1.11711712,\n",
       "        1.12112112, 1.12512513, 1.12912913, 1.13313313, 1.13713714,\n",
       "        1.14114114, 1.14514515, 1.14914915, 1.15315315, 1.15715716,\n",
       "        1.16116116, 1.16516517, 1.16916917, 1.17317317, 1.17717718,\n",
       "        1.18118118, 1.18518519, 1.18918919, 1.19319319, 1.1971972 ,\n",
       "        1.2012012 , 1.20520521, 1.20920921, 1.21321321, 1.21721722,\n",
       "        1.22122122, 1.22522523, 1.22922923, 1.23323323, 1.23723724,\n",
       "        1.24124124, 1.24524525, 1.24924925, 1.25325325, 1.25725726,\n",
       "        1.26126126, 1.26526527, 1.26926927, 1.27327327, 1.27727728,\n",
       "        1.28128128, 1.28528529, 1.28928929, 1.29329329, 1.2972973 ,\n",
       "        1.3013013 , 1.30530531, 1.30930931, 1.31331331, 1.31731732,\n",
       "        1.32132132, 1.32532533, 1.32932933, 1.33333333, 1.33733734,\n",
       "        1.34134134, 1.34534535, 1.34934935, 1.35335335, 1.35735736,\n",
       "        1.36136136, 1.36536537, 1.36936937, 1.37337337, 1.37737738,\n",
       "        1.38138138, 1.38538539, 1.38938939, 1.39339339, 1.3973974 ,\n",
       "        1.4014014 , 1.40540541, 1.40940941, 1.41341341, 1.41741742,\n",
       "        1.42142142, 1.42542543, 1.42942943, 1.43343343, 1.43743744,\n",
       "        1.44144144, 1.44544545, 1.44944945, 1.45345345, 1.45745746,\n",
       "        1.46146146, 1.46546547, 1.46946947, 1.47347347, 1.47747748,\n",
       "        1.48148148, 1.48548549, 1.48948949, 1.49349349, 1.4974975 ,\n",
       "        1.5015015 , 1.50550551, 1.50950951, 1.51351351, 1.51751752,\n",
       "        1.52152152, 1.52552553, 1.52952953, 1.53353353, 1.53753754,\n",
       "        1.54154154, 1.54554555, 1.54954955, 1.55355355, 1.55755756,\n",
       "        1.56156156, 1.56556557, 1.56956957, 1.57357357, 1.57757758,\n",
       "        1.58158158, 1.58558559, 1.58958959, 1.59359359, 1.5975976 ,\n",
       "        1.6016016 , 1.60560561, 1.60960961, 1.61361361, 1.61761762,\n",
       "        1.62162162, 1.62562563, 1.62962963, 1.63363363, 1.63763764,\n",
       "        1.64164164, 1.64564565, 1.64964965, 1.65365365, 1.65765766,\n",
       "        1.66166166, 1.66566567, 1.66966967, 1.67367367, 1.67767768,\n",
       "        1.68168168, 1.68568569, 1.68968969, 1.69369369, 1.6976977 ,\n",
       "        1.7017017 , 1.70570571, 1.70970971, 1.71371371, 1.71771772,\n",
       "        1.72172172, 1.72572573, 1.72972973, 1.73373373, 1.73773774,\n",
       "        1.74174174, 1.74574575, 1.74974975, 1.75375375, 1.75775776,\n",
       "        1.76176176, 1.76576577, 1.76976977, 1.77377377, 1.77777778,\n",
       "        1.78178178, 1.78578579, 1.78978979, 1.79379379, 1.7977978 ,\n",
       "        1.8018018 , 1.80580581, 1.80980981, 1.81381381, 1.81781782,\n",
       "        1.82182182, 1.82582583, 1.82982983, 1.83383383, 1.83783784,\n",
       "        1.84184184, 1.84584585, 1.84984985, 1.85385385, 1.85785786,\n",
       "        1.86186186, 1.86586587, 1.86986987, 1.87387387, 1.87787788,\n",
       "        1.88188188, 1.88588589, 1.88988989, 1.89389389, 1.8978979 ,\n",
       "        1.9019019 , 1.90590591, 1.90990991, 1.91391391, 1.91791792,\n",
       "        1.92192192, 1.92592593, 1.92992993, 1.93393393, 1.93793794,\n",
       "        1.94194194, 1.94594595, 1.94994995, 1.95395395, 1.95795796,\n",
       "        1.96196196, 1.96596597, 1.96996997, 1.97397397, 1.97797798,\n",
       "        1.98198198, 1.98598599, 1.98998999, 1.99399399, 1.997998  ,\n",
       "        2.002002  , 2.00600601, 2.01001001, 2.01401401, 2.01801802,\n",
       "        2.02202202, 2.02602603, 2.03003003, 2.03403403, 2.03803804,\n",
       "        2.04204204, 2.04604605, 2.05005005, 2.05405405, 2.05805806,\n",
       "        2.06206206, 2.06606607, 2.07007007, 2.07407407, 2.07807808,\n",
       "        2.08208208, 2.08608609, 2.09009009, 2.09409409, 2.0980981 ,\n",
       "        2.1021021 , 2.10610611, 2.11011011, 2.11411411, 2.11811812,\n",
       "        2.12212212, 2.12612613, 2.13013013, 2.13413413, 2.13813814,\n",
       "        2.14214214, 2.14614615, 2.15015015, 2.15415415, 2.15815816,\n",
       "        2.16216216, 2.16616617, 2.17017017, 2.17417417, 2.17817818,\n",
       "        2.18218218, 2.18618619, 2.19019019, 2.19419419, 2.1981982 ,\n",
       "        2.2022022 , 2.20620621, 2.21021021, 2.21421421, 2.21821822,\n",
       "        2.22222222, 2.22622623, 2.23023023, 2.23423423, 2.23823824,\n",
       "        2.24224224, 2.24624625, 2.25025025, 2.25425425, 2.25825826,\n",
       "        2.26226226, 2.26626627, 2.27027027, 2.27427427, 2.27827828,\n",
       "        2.28228228, 2.28628629, 2.29029029, 2.29429429, 2.2982983 ,\n",
       "        2.3023023 , 2.30630631, 2.31031031, 2.31431431, 2.31831832,\n",
       "        2.32232232, 2.32632633, 2.33033033, 2.33433433, 2.33833834,\n",
       "        2.34234234, 2.34634635, 2.35035035, 2.35435435, 2.35835836,\n",
       "        2.36236236, 2.36636637, 2.37037037, 2.37437437, 2.37837838,\n",
       "        2.38238238, 2.38638639, 2.39039039, 2.39439439, 2.3983984 ,\n",
       "        2.4024024 , 2.40640641, 2.41041041, 2.41441441, 2.41841842,\n",
       "        2.42242242, 2.42642643, 2.43043043, 2.43443443, 2.43843844,\n",
       "        2.44244244, 2.44644645, 2.45045045, 2.45445445, 2.45845846,\n",
       "        2.46246246, 2.46646647, 2.47047047, 2.47447447, 2.47847848,\n",
       "        2.48248248, 2.48648649, 2.49049049, 2.49449449, 2.4984985 ,\n",
       "        2.5025025 , 2.50650651, 2.51051051, 2.51451451, 2.51851852,\n",
       "        2.52252252, 2.52652653, 2.53053053, 2.53453453, 2.53853854,\n",
       "        2.54254254, 2.54654655, 2.55055055, 2.55455455, 2.55855856,\n",
       "        2.56256256, 2.56656657, 2.57057057, 2.57457457, 2.57857858,\n",
       "        2.58258258, 2.58658659, 2.59059059, 2.59459459, 2.5985986 ,\n",
       "        2.6026026 , 2.60660661, 2.61061061, 2.61461461, 2.61861862,\n",
       "        2.62262262, 2.62662663, 2.63063063, 2.63463463, 2.63863864,\n",
       "        2.64264264, 2.64664665, 2.65065065, 2.65465465, 2.65865866,\n",
       "        2.66266266, 2.66666667, 2.67067067, 2.67467467, 2.67867868,\n",
       "        2.68268268, 2.68668669, 2.69069069, 2.69469469, 2.6986987 ,\n",
       "        2.7027027 , 2.70670671, 2.71071071, 2.71471471, 2.71871872,\n",
       "        2.72272272, 2.72672673, 2.73073073, 2.73473473, 2.73873874,\n",
       "        2.74274274, 2.74674675, 2.75075075, 2.75475475, 2.75875876,\n",
       "        2.76276276, 2.76676677, 2.77077077, 2.77477477, 2.77877878,\n",
       "        2.78278278, 2.78678679, 2.79079079, 2.79479479, 2.7987988 ,\n",
       "        2.8028028 , 2.80680681, 2.81081081, 2.81481481, 2.81881882,\n",
       "        2.82282282, 2.82682683, 2.83083083, 2.83483483, 2.83883884,\n",
       "        2.84284284, 2.84684685, 2.85085085, 2.85485485, 2.85885886,\n",
       "        2.86286286, 2.86686687, 2.87087087, 2.87487487, 2.87887888,\n",
       "        2.88288288, 2.88688689, 2.89089089, 2.89489489, 2.8988989 ,\n",
       "        2.9029029 , 2.90690691, 2.91091091, 2.91491491, 2.91891892,\n",
       "        2.92292292, 2.92692693, 2.93093093, 2.93493493, 2.93893894,\n",
       "        2.94294294, 2.94694695, 2.95095095, 2.95495495, 2.95895896,\n",
       "        2.96296296, 2.96696697, 2.97097097, 2.97497497, 2.97897898,\n",
       "        2.98298298, 2.98698699, 2.99099099, 2.99499499, 2.998999  ,\n",
       "        3.003003  , 3.00700701, 3.01101101, 3.01501502, 3.01901902,\n",
       "        3.02302302, 3.02702703, 3.03103103, 3.03503504, 3.03903904,\n",
       "        3.04304304, 3.04704705, 3.05105105, 3.05505506, 3.05905906,\n",
       "        3.06306306, 3.06706707, 3.07107107, 3.07507508, 3.07907908,\n",
       "        3.08308308, 3.08708709, 3.09109109, 3.0950951 , 3.0990991 ,\n",
       "        3.1031031 , 3.10710711, 3.11111111, 3.11511512, 3.11911912,\n",
       "        3.12312312, 3.12712713, 3.13113113, 3.13513514, 3.13913914,\n",
       "        3.14314314, 3.14714715, 3.15115115, 3.15515516, 3.15915916,\n",
       "        3.16316316, 3.16716717, 3.17117117, 3.17517518, 3.17917918,\n",
       "        3.18318318, 3.18718719, 3.19119119, 3.1951952 , 3.1991992 ,\n",
       "        3.2032032 , 3.20720721, 3.21121121, 3.21521522, 3.21921922,\n",
       "        3.22322322, 3.22722723, 3.23123123, 3.23523524, 3.23923924,\n",
       "        3.24324324, 3.24724725, 3.25125125, 3.25525526, 3.25925926,\n",
       "        3.26326326, 3.26726727, 3.27127127, 3.27527528, 3.27927928,\n",
       "        3.28328328, 3.28728729, 3.29129129, 3.2952953 , 3.2992993 ,\n",
       "        3.3033033 , 3.30730731, 3.31131131, 3.31531532, 3.31931932,\n",
       "        3.32332332, 3.32732733, 3.33133133, 3.33533534, 3.33933934,\n",
       "        3.34334334, 3.34734735, 3.35135135, 3.35535536, 3.35935936,\n",
       "        3.36336336, 3.36736737, 3.37137137, 3.37537538, 3.37937938,\n",
       "        3.38338338, 3.38738739, 3.39139139, 3.3953954 , 3.3993994 ,\n",
       "        3.4034034 , 3.40740741, 3.41141141, 3.41541542, 3.41941942,\n",
       "        3.42342342, 3.42742743, 3.43143143, 3.43543544, 3.43943944,\n",
       "        3.44344344, 3.44744745, 3.45145145, 3.45545546, 3.45945946,\n",
       "        3.46346346, 3.46746747, 3.47147147, 3.47547548, 3.47947948,\n",
       "        3.48348348, 3.48748749, 3.49149149, 3.4954955 , 3.4994995 ,\n",
       "        3.5035035 , 3.50750751, 3.51151151, 3.51551552, 3.51951952,\n",
       "        3.52352352, 3.52752753, 3.53153153, 3.53553554, 3.53953954,\n",
       "        3.54354354, 3.54754755, 3.55155155, 3.55555556, 3.55955956,\n",
       "        3.56356356, 3.56756757, 3.57157157, 3.57557558, 3.57957958,\n",
       "        3.58358358, 3.58758759, 3.59159159, 3.5955956 , 3.5995996 ,\n",
       "        3.6036036 , 3.60760761, 3.61161161, 3.61561562, 3.61961962,\n",
       "        3.62362362, 3.62762763, 3.63163163, 3.63563564, 3.63963964,\n",
       "        3.64364364, 3.64764765, 3.65165165, 3.65565566, 3.65965966,\n",
       "        3.66366366, 3.66766767, 3.67167167, 3.67567568, 3.67967968,\n",
       "        3.68368368, 3.68768769, 3.69169169, 3.6956957 , 3.6996997 ,\n",
       "        3.7037037 , 3.70770771, 3.71171171, 3.71571572, 3.71971972,\n",
       "        3.72372372, 3.72772773, 3.73173173, 3.73573574, 3.73973974,\n",
       "        3.74374374, 3.74774775, 3.75175175, 3.75575576, 3.75975976,\n",
       "        3.76376376, 3.76776777, 3.77177177, 3.77577578, 3.77977978,\n",
       "        3.78378378, 3.78778779, 3.79179179, 3.7957958 , 3.7997998 ,\n",
       "        3.8038038 , 3.80780781, 3.81181181, 3.81581582, 3.81981982,\n",
       "        3.82382382, 3.82782783, 3.83183183, 3.83583584, 3.83983984,\n",
       "        3.84384384, 3.84784785, 3.85185185, 3.85585586, 3.85985986,\n",
       "        3.86386386, 3.86786787, 3.87187187, 3.87587588, 3.87987988,\n",
       "        3.88388388, 3.88788789, 3.89189189, 3.8958959 , 3.8998999 ,\n",
       "        3.9039039 , 3.90790791, 3.91191191, 3.91591592, 3.91991992,\n",
       "        3.92392392, 3.92792793, 3.93193193, 3.93593594, 3.93993994,\n",
       "        3.94394394, 3.94794795, 3.95195195, 3.95595596, 3.95995996,\n",
       "        3.96396396, 3.96796797, 3.97197197, 3.97597598, 3.97997998,\n",
       "        3.98398398, 3.98798799, 3.99199199, 3.995996  , 4.        ]),\n",
       " array([[[ -2.48933986,   6.6097348 , -14.99656876],\n",
       "         [ -2.14077645,   6.18646806, -14.8962127 ],\n",
       "         [ -1.82130748,   5.82299967, -14.78532082],\n",
       "         ...,\n",
       "         [  6.87667415,  10.77344985,  17.82863157],\n",
       "         [  7.03431517,  11.01155458,  17.9410297 ],\n",
       "         [  7.19515729,  11.25177215,  18.06592067]],\n",
       " \n",
       "        [[ -5.93002282, -10.59732328, -12.22984216],\n",
       "         [ -6.13136261, -11.51934646, -11.83440517],\n",
       "         [ -6.3613854 , -12.4619735 , -11.41047706],\n",
       "         ...,\n",
       "         [-11.1085147 , -16.22611406,  23.23417547],\n",
       "         [-11.31216015, -16.36401468,  23.71505857],\n",
       "         [-11.51285151, -16.48277056,  24.20979564]],\n",
       " \n",
       "        [[ -9.41219366,  -4.63317819,  -3.09697577],\n",
       "         [ -9.24717733,  -5.76936651,  -2.87083263],\n",
       "         [ -9.13260659,  -6.87477643,  -2.60897637],\n",
       "         ...,\n",
       "         [  8.94933599,  10.02048768,  26.13399393],\n",
       "         [  8.99188828,  10.04588909,  26.21490835],\n",
       "         [  9.03371359,  10.06855181,  26.29751229]],\n",
       " \n",
       "        ...,\n",
       " \n",
       "        [[  5.36506599,  -8.65115652,  -7.03360022],\n",
       "         [  4.82998041,  -7.90259753,  -7.12676968],\n",
       "         [  4.34381205,  -7.22713505,  -7.18913817],\n",
       "         ...,\n",
       "         [  6.94280747,   6.35696124,  25.9849652 ],\n",
       "         [  6.92043371,   6.38876023,  25.88491349],\n",
       "         [  6.90023455,   6.42299976,  25.78629305]],\n",
       " \n",
       "        [[ -0.25280522, -13.39912365,   2.22352816],\n",
       "         [ -0.76859672, -13.39837981,   2.22727301],\n",
       "         [ -1.26515045, -13.44967668,   2.25807869],\n",
       "         ...,\n",
       "         [  8.66700641,   7.87775163,  28.21852289],\n",
       "         [  8.63526368,   7.83921217,  28.18958576],\n",
       "         [  8.60327794,   7.8018839 ,  28.15865621]],\n",
       " \n",
       "        [[-10.59814275,   2.67916611,   5.9927508 ],\n",
       "         [-10.09540215,   1.75565777,   5.83779822],\n",
       "         [ -9.64783452,   0.8724661 ,   5.7241866 ],\n",
       "         ...,\n",
       "         [  1.46533776,   2.00447375,  15.91189295],\n",
       "         [  1.48775241,   2.06824646,  15.75487409],\n",
       "         [  1.51182579,   2.13382874,  15.60009769]]]))"
      ]
     },
     "execution_count": 10,
     "metadata": {},
     "output_type": "execute_result"
    }
   ],
   "source": [
    "solve_lorenz(angle=65,N=20)"
   ]
  },
  {
   "cell_type": "code",
   "execution_count": 11,
   "metadata": {},
   "outputs": [
    {
     "data": {
      "application/vnd.jupyter.widget-view+json": {
       "model_id": "7c98c90c9d534466a97a1fd85ed1e85c",
       "version_major": 2,
       "version_minor": 0
      },
      "text/html": [
       "<p>Failed to display Jupyter Widget of type <code>interactive</code>.</p>\n",
       "<p>\n",
       "  If you're reading this message in the Jupyter Notebook or JupyterLab Notebook, it may mean\n",
       "  that the widgets JavaScript is still loading. If this message persists, it\n",
       "  likely means that the widgets JavaScript library is either not installed or\n",
       "  not enabled. See the <a href=\"https://ipywidgets.readthedocs.io/en/stable/user_install.html\">Jupyter\n",
       "  Widgets Documentation</a> for setup instructions.\n",
       "</p>\n",
       "<p>\n",
       "  If you're reading this message in another frontend (for example, a static\n",
       "  rendering on GitHub or <a href=\"https://nbviewer.jupyter.org/\">NBViewer</a>),\n",
       "  it may mean that your frontend doesn't currently support widgets.\n",
       "</p>\n"
      ],
      "text/plain": [
       "interactive(children=(IntSlider(value=10, description='N', max=25), FloatSlider(value=0.0, description='angle', max=360.0), FloatSlider(value=4.0, description='max_time', max=12.0, min=-4.0), FloatSlider(value=10.0, description='sigma', max=50.0), FloatSlider(value=2.6666666666666665, description='beta', max=8.0, min=-2.6666666666666665), FloatSlider(value=28.0, description='rho', max=50.0), Output()), _dom_classes=('widget-interact',))"
      ]
     },
     "metadata": {},
     "output_type": "display_data"
    },
    {
     "data": {
      "text/plain": [
       "<function __main__.solve_lorenz>"
      ]
     },
     "execution_count": 11,
     "metadata": {},
     "output_type": "execute_result"
    }
   ],
   "source": [
    "interact(solve_lorenz,angle=(0.,360.),N=(0,25),sigma=(0.0,50.0),rho=(0.0,50.0))"
   ]
  },
  {
   "cell_type": "code",
   "execution_count": 6,
   "metadata": {},
   "outputs": [
    {
     "name": "stdout",
     "output_type": "stream",
     "text": [
      "B\n",
      " (array([2.  , 2.25, 2.5 , 2.75, 3.  ]), 0.25) \n",
      "\n",
      "A\n",
      " [0.         0.22039774 0.42995636 0.6183698  0.77637192 0.8961922\n",
      " 0.9719379  0.99988386 0.9786557  0.90929743]\n"
     ]
    }
   ],
   "source": [
    "# Python Programming illustrating \n",
    "# numpy.linspace method \n",
    "\n",
    "import numpy as geek \n",
    "\n",
    "# restep set to True \n",
    "print(\"B\\n\", geek.linspace(2.0, 3.0, num=5, retstep=True), \"\\n\") \n",
    "\n",
    "# To evaluate sin() in long range \n",
    "x = geek.linspace(0, 2, 10) \n",
    "print(\"A\\n\", geek.sin(x)) \n"
   ]
  },
  {
   "cell_type": "code",
   "execution_count": 8,
   "metadata": {},
   "outputs": [
    {
     "ename": "SyntaxError",
     "evalue": "invalid syntax (<ipython-input-8-461850cdafad>, line 21)",
     "output_type": "error",
     "traceback": [
      "\u001b[1;36m  File \u001b[1;32m\"<ipython-input-8-461850cdafad>\"\u001b[1;36m, line \u001b[1;32m21\u001b[0m\n\u001b[1;33m    e={'hatchback:':'$',30,'sedan:':'$50','suv:':'$100'}\u001b[0m\n\u001b[1;37m                          ^\u001b[0m\n\u001b[1;31mSyntaxError\u001b[0m\u001b[1;31m:\u001b[0m invalid syntax\n"
     ]
    }
   ],
   "source": [
    "class car_categories:\n",
    "    def __init__(self,listt):\n",
    "        x={}\n",
    "        self.listt=listt\n",
    "        n=[]\n",
    "        for t in listt:\n",
    "            n.append(listt.index(t))\n",
    "        zipped=list(zip(listt,n))\n",
    "        self.x=dict(zipped)\n",
    "        \n",
    "    def removed_carr(self,sad):\n",
    "        self.listt.remove(sad)\n",
    "    \n",
    "    def returned_car(self,sd):\n",
    "        for k in self.x.keys():\n",
    "            if sd is k:\n",
    "                self.listt.insert(self.x[k],k)\n",
    "\n",
    "d=['hatchback','sedan','suv']\n",
    "cars=car_categories(d)\n",
    "e={'hatchback:':'$',30,'sedan:':'$50','suv:':'$100'}\n",
    "print('here is car list and fares per day')\n",
    "for k in e.keys():\n",
    "    print(k, e[k])\n",
    "user1=input('please choose type car u want to borrow')\n",
    "cars.removed_carr(user1)\n",
    "#user2=input('for how many days u want to borrow?')\n",
    "#h=inte[user1]\n"
   ]
  },
  {
   "cell_type": "code",
   "execution_count": null,
   "metadata": {},
   "outputs": [],
   "source": []
  }
 ],
 "metadata": {
  "kernelspec": {
   "display_name": "Python 3",
   "language": "python",
   "name": "python3"
  },
  "language_info": {
   "codemirror_mode": {
    "name": "ipython",
    "version": 3
   },
   "file_extension": ".py",
   "mimetype": "text/x-python",
   "name": "python",
   "nbconvert_exporter": "python",
   "pygments_lexer": "ipython3",
   "version": "3.6.4"
  }
 },
 "nbformat": 4,
 "nbformat_minor": 2
}
