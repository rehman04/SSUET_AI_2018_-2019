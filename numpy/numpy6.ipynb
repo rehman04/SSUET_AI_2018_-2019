{
 "cells": [
  {
   "cell_type": "code",
   "execution_count": null,
   "metadata": {},
   "outputs": [],
   "source": [
    "#reading assignent#python data analysis 2nd addition"
   ]
  },
  {
   "cell_type": "code",
   "execution_count": 3,
   "metadata": {},
   "outputs": [
    {
     "data": {
      "text/plain": [
       "array([[ 0,  1,  2,  3,  4,  5],\n",
       "       [ 6,  7,  8,  9, 10, 11]])"
      ]
     },
     "execution_count": 3,
     "metadata": {},
     "output_type": "execute_result"
    }
   ],
   "source": [
    "#ones_like\n",
    "import numpy as np\n",
    "#x=np.ones(12).reshape(2,6)\n",
    "x=np.arange(12).reshape(2,6)\n",
    "x"
   ]
  },
  {
   "cell_type": "code",
   "execution_count": 2,
   "metadata": {},
   "outputs": [
    {
     "data": {
      "text/plain": [
       "array([[1., 1., 1., 1., 1., 1.],\n",
       "       [1., 1., 1., 1., 1., 1.]])"
      ]
     },
     "execution_count": 2,
     "metadata": {},
     "output_type": "execute_result"
    }
   ],
   "source": [
    "y=np.ones_like(x)\n",
    "y"
   ]
  },
  {
   "cell_type": "code",
   "execution_count": 4,
   "metadata": {},
   "outputs": [
    {
     "data": {
      "text/plain": [
       "array([[12, 12, 12, 12],\n",
       "       [12, 12, 12, 12],\n",
       "       [12, 12, 12, 12]])"
      ]
     },
     "execution_count": 4,
     "metadata": {},
     "output_type": "execute_result"
    }
   ],
   "source": [
    "full_arr=np.full((3,4),12)\n",
    "full_arr"
   ]
  },
  {
   "cell_type": "code",
   "execution_count": 12,
   "metadata": {},
   "outputs": [
    {
     "data": {
      "text/plain": [
       "array([b'sdfs', b'sfas', b'dsf'], dtype='|S4')"
      ]
     },
     "execution_count": 12,
     "metadata": {},
     "output_type": "execute_result"
    }
   ],
   "source": [
    "str_array=np.array(['sdfs','sfas','dsf'],dtype='string_')\n",
    "str_array"
   ]
  },
  {
   "cell_type": "code",
   "execution_count": 14,
   "metadata": {},
   "outputs": [
    {
     "data": {
      "text/plain": [
       "array([[ 1,  2,  3,  4],\n",
       "       [ 5,  6,  7,  8],\n",
       "       [ 9, 10, 11, 12]])"
      ]
     },
     "execution_count": 14,
     "metadata": {},
     "output_type": "execute_result"
    }
   ],
   "source": [
    "#2d\n",
    "q=np.array([[1,2,3,4],[5,6,7,8],[9,10,11,12]])\n",
    "q"
   ]
  },
  {
   "cell_type": "code",
   "execution_count": 34,
   "metadata": {},
   "outputs": [
    {
     "name": "stdout",
     "output_type": "stream",
     "text": [
      "[[[12 12 12 12]\n",
      "  [12 12 12 12]]\n",
      "\n",
      " [[ 9 10 11 12]\n",
      "  [13 14 15 16]]]\n",
      "[ 9 10 11 12]\n"
     ]
    },
    {
     "data": {
      "text/plain": [
       "array([[[ 1,  2,  3,  4],\n",
       "        [ 5,  6,  7,  8]],\n",
       "\n",
       "       [[ 9, 10, 11, 12],\n",
       "        [13, 14, 15, 16]]])"
      ]
     },
     "execution_count": 34,
     "metadata": {},
     "output_type": "execute_result"
    }
   ],
   "source": [
    "#3d\n",
    "w=np.array([[[1,2,3,4],[5,6,7,8]],[[9,10,11,12],[13,14,15,16]]])\n",
    "x=w[0].copy()\n",
    "w[0]=12\n",
    "print(w)\n",
    "w[0]=x\n",
    "print(w[1,0])\n",
    "w"
   ]
  },
  {
   "cell_type": "code",
   "execution_count": 24,
   "metadata": {},
   "outputs": [
    {
     "data": {
      "text/plain": [
       "array([    1,     2,     3,     4,     5,    12, 12321,    12,     9])"
      ]
     },
     "execution_count": 24,
     "metadata": {},
     "output_type": "execute_result"
    }
   ],
   "source": [
    "#broadcasting"
   ]
  },
  {
   "cell_type": "code",
   "execution_count": 46,
   "metadata": {},
   "outputs": [
    {
     "name": "stdout",
     "output_type": "stream",
     "text": [
      "[[ 0.69362319 -0.89440983  0.62955017 -1.3154952 ]\n",
      " [-1.42201487  1.76777771  0.1913     -0.76807195]\n",
      " [-0.50988543  2.03525216 -1.20688426 -0.04074301]\n",
      " [-2.40381332 -1.39332144 -0.16441232  0.85622452]\n",
      " [ 1.27235382 -1.40065946 -1.87493233 -1.30071986]\n",
      " [-0.32681791 -0.69848114 -1.5144567   0.91525357]\n",
      " [-1.54824105 -0.11967311  0.44344589  0.11445771]]\n"
     ]
    },
    {
     "data": {
      "text/plain": [
       "array([[7.        , 7.        , 7.        , 7.        ],\n",
       "       [0.        , 1.76777771, 0.1913    , 0.        ],\n",
       "       [7.        , 7.        , 7.        , 7.        ],\n",
       "       [7.        , 7.        , 7.        , 7.        ],\n",
       "       [7.        , 7.        , 7.        , 7.        ],\n",
       "       [0.        , 0.        , 0.        , 0.91525357],\n",
       "       [0.        , 0.        , 0.44344589, 0.11445771]])"
      ]
     },
     "execution_count": 46,
     "metadata": {},
     "output_type": "execute_result"
    }
   ],
   "source": [
    "#boolean indexing\n",
    "names=np.array(['bob','joe','will','bob','will','joe','joe'])\n",
    "data=np.random.randn(7,4)\n",
    "print(data)\n",
    "data[names=='bob']\n",
    "data[names!='bob']\n",
    "#data[~(names=='bob')]\n",
    "data[names=='bob',:2]\n",
    "data[names=='bob',3]\n",
    "mask=(names=='bob')|(names=='will')\n",
    "data[mask]\n",
    "data[data<0]=0\n",
    "data[~(names=='joe')]=7\n",
    "data"
   ]
  },
  {
   "cell_type": "code",
   "execution_count": 47,
   "metadata": {},
   "outputs": [],
   "source": [
    "#fancy indexing"
   ]
  },
  {
   "cell_type": "code",
   "execution_count": 55,
   "metadata": {},
   "outputs": [
    {
     "name": "stdout",
     "output_type": "stream",
     "text": [
      "[[0. 0. 0. 0.]\n",
      " [1. 1. 1. 1.]\n",
      " [2. 2. 2. 2.]\n",
      " [3. 3. 3. 3.]\n",
      " [4. 4. 4. 4.]\n",
      " [5. 5. 5. 5.]\n",
      " [6. 6. 6. 6.]\n",
      " [7. 7. 7. 7.]]\n"
     ]
    },
    {
     "data": {
      "text/plain": [
       "array([[4., 4., 4., 4.],\n",
       "       [5., 5., 5., 5.],\n",
       "       [0., 0., 0., 0.]])"
      ]
     },
     "execution_count": 55,
     "metadata": {},
     "output_type": "execute_result"
    }
   ],
   "source": [
    "#t=np.empty((8,4))\n",
    "t=np.zeros((8,4))\n",
    "for i in range(8):\n",
    "    t[i]=i\n",
    "print(t)\n",
    "t[[4,5,0]]"
   ]
  },
  {
   "cell_type": "code",
   "execution_count": 59,
   "metadata": {},
   "outputs": [
    {
     "name": "stdout",
     "output_type": "stream",
     "text": [
      "[[ 0  1  2  3]\n",
      " [ 4  5  6  7]\n",
      " [ 8  9 10 11]\n",
      " [12 13 14 15]\n",
      " [16 17 18 19]\n",
      " [20 21 22 23]\n",
      " [24 25 26 27]\n",
      " [28 29 30 31]]\n"
     ]
    },
    {
     "data": {
      "text/plain": [
       "array([ 6, 12, 21, 31])"
      ]
     },
     "execution_count": 59,
     "metadata": {},
     "output_type": "execute_result"
    }
   ],
   "source": [
    "y=np.arange(32).reshape(8,4)\n",
    "print(y)\n",
    "y[[1,3,5,7],[2,0,1,3]]"
   ]
  },
  {
   "cell_type": "code",
   "execution_count": 60,
   "metadata": {},
   "outputs": [
    {
     "data": {
      "text/plain": [
       "array([[ 0,  5, 10],\n",
       "       [ 1,  6, 11],\n",
       "       [ 2,  7, 12],\n",
       "       [ 3,  8, 13],\n",
       "       [ 4,  9, 14]])"
      ]
     },
     "execution_count": 60,
     "metadata": {},
     "output_type": "execute_result"
    }
   ],
   "source": [
    "#Transposing arrays and Swapping axes\n",
    "u=np.arange(15).reshape(3,5)\n",
    "u.T"
   ]
  },
  {
   "cell_type": "code",
   "execution_count": 62,
   "metadata": {},
   "outputs": [
    {
     "data": {
      "text/plain": [
       "array([[11.34975315, -4.5651357 ,  2.93649924],\n",
       "       [-4.5651357 , 11.69979497, -4.33327531],\n",
       "       [ 2.93649924, -4.33327531,  7.01238366]])"
      ]
     },
     "execution_count": 62,
     "metadata": {},
     "output_type": "execute_result"
    }
   ],
   "source": [
    "i=np.random.randn(6,3)\n",
    "np.dot(i.T,i)#matrix multiplication"
   ]
  },
  {
   "cell_type": "code",
   "execution_count": 66,
   "metadata": {},
   "outputs": [
    {
     "name": "stdout",
     "output_type": "stream",
     "text": [
      "[[[ 0  1  2  3]\n",
      "  [ 4  5  6  7]]\n",
      "\n",
      " [[ 8  9 10 11]\n",
      "  [12 13 14 15]]]\n",
      "\n",
      "this is x\n",
      " [[[ 0  1  2  3]\n",
      "  [ 8  9 10 11]]\n",
      "\n",
      " [[ 4  5  6  7]\n",
      "  [12 13 14 15]]]\n",
      "\n",
      "arr\n",
      " [[[ 0  1  2  3]\n",
      "  [ 4  5  6  7]\n",
      "  [ 8  9 10 11]]\n",
      "\n",
      " [[12 13 14 15]\n",
      "  [16 17 18 19]\n",
      "  [20 21 22 23]]]\n",
      "\n",
      "nnew_arr\n",
      " [[[ 0  4  8]\n",
      "  [12 16 20]]\n",
      "\n",
      " [[ 1  5  9]\n",
      "  [13 17 21]]\n",
      "\n",
      " [[ 2  6 10]\n",
      "  [14 18 22]]\n",
      "\n",
      " [[ 3  7 11]\n",
      "  [15 19 23]]]\n"
     ]
    }
   ],
   "source": [
    "o = np.arange (16).reshape ((2, 2, 4))\n",
    "\n",
    "print(o)\n",
    "\n",
    "x = o.transpose(1,0,2) \n",
    "\n",
    "print('\\nthis is x\\n', x)\n",
    "\n",
    "arr = np.arange(24).reshape((2, 3, 4))\n",
    "\n",
    "print('\\narr\\n',arr)\n",
    "\n",
    "new_arr = arr.transpose(2, 0, 1)#transposing columns into 2 rows\n",
    "\n",
    "print('\\nnnew_arr\\n',new_arr)\n",
    "\n",
    "\n",
    "\n"
   ]
  },
  {
   "cell_type": "code",
   "execution_count": 67,
   "metadata": {},
   "outputs": [
    {
     "data": {
      "text/plain": [
       "array([[[ 0,  4],\n",
       "        [ 1,  5],\n",
       "        [ 2,  6],\n",
       "        [ 3,  7]],\n",
       "\n",
       "       [[ 8, 12],\n",
       "        [ 9, 13],\n",
       "        [10, 14],\n",
       "        [11, 15]]])"
      ]
     },
     "execution_count": 67,
     "metadata": {},
     "output_type": "execute_result"
    }
   ],
   "source": [
    "o.swapaxes(1,2)"
   ]
  },
  {
   "cell_type": "code",
   "execution_count": 68,
   "metadata": {},
   "outputs": [
    {
     "data": {
      "text/plain": [
       "7.38905609893065"
      ]
     },
     "execution_count": 68,
     "metadata": {},
     "output_type": "execute_result"
    }
   ],
   "source": [
    "#universal functions\n",
    "a=2\n",
    "np.exp(a)"
   ]
  },
  {
   "cell_type": "code",
   "execution_count": 70,
   "metadata": {},
   "outputs": [
    {
     "data": {
      "text/plain": [
       "array([1.00000000e+00, 2.71828183e+00, 7.38905610e+00, 2.00855369e+01,\n",
       "       5.45981500e+01, 1.48413159e+02, 4.03428793e+02, 1.09663316e+03,\n",
       "       2.98095799e+03, 8.10308393e+03])"
      ]
     },
     "execution_count": 70,
     "metadata": {},
     "output_type": "execute_result"
    }
   ],
   "source": [
    "p=np.arange(10)\n",
    "np.sqrt(p)\n",
    "np.exp(p)\n"
   ]
  },
  {
   "cell_type": "code",
   "execution_count": 74,
   "metadata": {},
   "outputs": [
    {
     "name": "stdout",
     "output_type": "stream",
     "text": [
      "[-2.22346875  0.20398073  0.05429308 -0.73325022 -0.80759333 -0.39327366\n",
      " -0.04259319 -0.5791981 ] \n",
      "\n",
      "[ 7.70569926e-01  8.11903711e-01  1.74054278e+00  5.06289636e-01\n",
      " -2.02992836e-01  4.35834452e-01 -3.66836300e-04 -7.90095908e-01] \n",
      "\n"
     ]
    },
    {
     "data": {
      "text/plain": [
       "array([ 7.70569926e-01,  8.11903711e-01,  1.74054278e+00,  5.06289636e-01,\n",
       "       -2.02992836e-01,  4.35834452e-01, -3.66836300e-04, -5.79198101e-01])"
      ]
     },
     "execution_count": 74,
     "metadata": {},
     "output_type": "execute_result"
    }
   ],
   "source": [
    "a=np.random.randn(8)\n",
    "print(a,'\\n')\n",
    "s=np.random.randn(8)\n",
    "print(s,'\\n')\n",
    "np.maximum(a,s)"
   ]
  },
  {
   "cell_type": "code",
   "execution_count": 75,
   "metadata": {},
   "outputs": [
    {
     "name": "stdout",
     "output_type": "stream",
     "text": [
      "[-0.10035894  0.84951425 -0.00419345  0.86430155 -0.2843931  -0.44668082\n",
      "  0.24501618  0.16271337] \n",
      " [-4.  1. -9.  3. -4. -3.  3.  3.]\n"
     ]
    }
   ],
   "source": [
    "d=np.random.randn(8)*5\n",
    "remainder,whole_part=np.modf(d)\n",
    "print(remainder,'\\n',whole_part)"
   ]
  },
  {
   "cell_type": "code",
   "execution_count": 78,
   "metadata": {},
   "outputs": [
    {
     "data": {
      "text/plain": [
       "array([[7.07106781, 7.06400028, 7.05693985, ..., 7.04988652, 7.05693985,\n",
       "        7.06400028],\n",
       "       [7.06400028, 7.05692568, 7.04985815, ..., 7.04279774, 7.04985815,\n",
       "        7.05692568],\n",
       "       [7.05693985, 7.04985815, 7.04278354, ..., 7.03571603, 7.04278354,\n",
       "        7.04985815],\n",
       "       ...,\n",
       "       [7.04988652, 7.04279774, 7.03571603, ..., 7.0286414 , 7.03571603,\n",
       "        7.04279774],\n",
       "       [7.05693985, 7.04985815, 7.04278354, ..., 7.03571603, 7.04278354,\n",
       "        7.04985815],\n",
       "       [7.06400028, 7.05692568, 7.04985815, ..., 7.04279774, 7.04985815,\n",
       "        7.05692568]])"
      ]
     },
     "execution_count": 78,
     "metadata": {},
     "output_type": "execute_result"
    }
   ],
   "source": [
    "#array-oriented programming with arrays\n",
    "points=np.arange(-5,5,0.01)\n",
    "xs,ys=np.meshgrid(points,points)\n",
    "np.sqrt(xs**2+ys**2)"
   ]
  },
  {
   "cell_type": "code",
   "execution_count": 85,
   "metadata": {},
   "outputs": [
    {
     "name": "stdout",
     "output_type": "stream",
     "text": [
      "[1.1, 2.2, 1.3, 2.4, 1.5] \n",
      "\n"
     ]
    },
    {
     "data": {
      "text/plain": [
       "array([1.1, 2.2, 1.3, 2.4, 1.5])"
      ]
     },
     "execution_count": 85,
     "metadata": {},
     "output_type": "execute_result"
    }
   ],
   "source": [
    "xarr=np.linspace(1.1,1.5,5)\n",
    "yarr=np.linspace(2.1,2.5,5)\n",
    "cond=np.array([True,False,True,False,True])\n",
    "result=[(x if c else y) for x,y,c in zip(xarr,yarr,cond)]\n",
    "result1=np.where(cond,xarr,yarr)\n",
    "print(result,'\\n')\n",
    "result1"
   ]
  },
  {
   "cell_type": "code",
   "execution_count": 88,
   "metadata": {},
   "outputs": [
    {
     "data": {
      "text/plain": [
       "array([[ 2.        , -1.18516316, -0.19877977,  2.        ],\n",
       "       [ 2.        ,  2.        , -0.21534542,  2.        ],\n",
       "       [ 2.        ,  2.        , -0.16103163,  2.        ],\n",
       "       [-0.1679294 , -0.43052981, -0.64652223,  2.        ]])"
      ]
     },
     "execution_count": 88,
     "metadata": {},
     "output_type": "execute_result"
    }
   ],
   "source": [
    "d=np.random.randn(4,4)\n",
    "#res=np.where(d>0,2,-2) or\n",
    "res=np.where(d>0,2,d)#only +ve values set to 2\n",
    "res"
   ]
  },
  {
   "cell_type": "code",
   "execution_count": 12,
   "metadata": {},
   "outputs": [
    {
     "data": {
      "text/plain": [
       "array([ 1.4118647 , -1.94953814,  4.66999202, -3.89498399, -0.86814985])"
      ]
     },
     "execution_count": 12,
     "metadata": {},
     "output_type": "execute_result"
    }
   ],
   "source": [
    "#mathematical and statistical methods\n",
    "f=np.random.randn(5,4)\n",
    "f.mean()\n",
    "f.sum(axis=1)#row wise operation"
   ]
  },
  {
   "cell_type": "code",
   "execution_count": 16,
   "metadata": {},
   "outputs": [
    {
     "data": {
      "text/plain": [
       "array([[  1,   2,   6],\n",
       "       [  4,  20, 120],\n",
       "       [  7,  56, 504]], dtype=int32)"
      ]
     },
     "execution_count": 16,
     "metadata": {},
     "output_type": "execute_result"
    }
   ],
   "source": [
    "g=np.arange(1,10).reshape(3,3)\n",
    "g.cumsum(0)\n",
    "g.cumprod(axis=1)"
   ]
  },
  {
   "cell_type": "code",
   "execution_count": 19,
   "metadata": {},
   "outputs": [
    {
     "name": "stdout",
     "output_type": "stream",
     "text": [
      "length of array  1000\n",
      "0.4442101099457304 \n",
      " -1.5220916252565106\n"
     ]
    }
   ],
   "source": [
    "#mthods for bools array\n",
    "'''\n",
    ".all()\n",
    ".any()\n",
    "'''\n",
    "#sorting\n",
    "'''\n",
    "h=np.random.randn(6)\n",
    "print(h,'\\n',h.sort())\n",
    "g=np.random.randn(4,3)\n",
    "print(g)\n",
    "print(g.sort(1))\n",
    "'''\n",
    "large_arr = np.random.randn(1000)\n",
    "print('length of array ',len(large_arr))\n",
    "l=large_arr[int(0.05 * len(large_arr))]\n",
    "#quantile\n",
    "large_arr.sort()\n",
    "k=large_arr[int(0.05 * len(large_arr))] # 5% quantile\n",
    "print(l,'\\n',k)#Out[205]: -1.5311513550102103'''"
   ]
  },
  {
   "cell_type": "code",
   "execution_count": 24,
   "metadata": {},
   "outputs": [
    {
     "data": {
      "text/plain": [
       "array([ True,  True,  True,  True, False, False, False, False])"
      ]
     },
     "execution_count": 24,
     "metadata": {},
     "output_type": "execute_result"
    }
   ],
   "source": [
    "#unique and other set logic\n",
    "names=np.array(['bob','will','joe','bob','will','joe','bob','will','joe'])\n",
    "np.unique(names)\n",
    "ints=np.array([1,1,2,2,3,3,4,4])\n",
    "np.unique(ints)\n",
    "#python alternate\n",
    "sorted(set(names))\n",
    "np.in1d(ints,[1,2])"
   ]
  },
  {
   "cell_type": "code",
   "execution_count": 28,
   "metadata": {},
   "outputs": [
    {
     "data": {
      "text/plain": [
       "array([0, 1, 2, 3, 4, 5, 6, 7, 8, 9])"
      ]
     },
     "execution_count": 28,
     "metadata": {},
     "output_type": "execute_result"
    }
   ],
   "source": [
    "#file input and output with arrays\n",
    "arr=np.arange(10)\n",
    "#np.save('normal_array',arr)\n",
    "#np.load('normal_array.npy')\n",
    "np.savez('normal_archive.npz',a=arr,b=arr)\n",
    "arch=np.load('normal_archive.npz')\n",
    "arch['b']\n",
    "#for compression\n",
    "np.savez_compressed()"
   ]
  },
  {
   "cell_type": "code",
   "execution_count": 29,
   "metadata": {},
   "outputs": [],
   "source": [
    "#linear ALgebra\n",
    "import numpy.linalg\n"
   ]
  },
  {
   "cell_type": "code",
   "execution_count": 4,
   "metadata": {},
   "outputs": [
    {
     "data": {
      "text/plain": [
       "array([[ 1.00000000e+00, -2.93205138e-16,  1.16020918e-15,\n",
       "         2.37280154e-16,  8.05158462e-16],\n",
       "       [ 4.73480419e-16,  1.00000000e+00,  1.56768606e-15,\n",
       "         1.19015767e-16,  1.32973651e-15],\n",
       "       [ 5.70726118e-18,  2.19348276e-16,  1.00000000e+00,\n",
       "         7.70501119e-17,  7.80139492e-17],\n",
       "       [ 3.09677783e-16,  8.28745335e-16,  2.53029014e-15,\n",
       "         1.00000000e+00,  9.37060317e-16],\n",
       "       [ 1.96720679e-16,  9.09909087e-16,  1.19209819e-15,\n",
       "         3.64577090e-16,  1.00000000e+00]])"
      ]
     },
     "execution_count": 4,
     "metadata": {},
     "output_type": "execute_result"
    }
   ],
   "source": [
    "X=np.random.randn(5,5)\n",
    "mat=X.T.dot(X)\n",
    "#np.linalg.inv(mat)\n",
    "mat.dot(np.linalg.inv(mat))"
   ]
  },
  {
   "cell_type": "code",
   "execution_count": 45,
   "metadata": {},
   "outputs": [
    {
     "data": {
      "text/plain": [
       "array([[-0.90168188, -0.18474063,  1.46818003, -4.24578248, -5.87945011],\n",
       "       [ 0.        , -4.84040506,  0.07129239,  3.72952023, -6.04580094],\n",
       "       [ 0.        ,  0.        , -1.21689669,  1.68539516,  4.18196439],\n",
       "       [ 0.        ,  0.        ,  0.        , -1.29454929, -5.45574878],\n",
       "       [ 0.        ,  0.        ,  0.        ,  0.        ,  1.87840077]])"
      ]
     },
     "execution_count": 45,
     "metadata": {},
     "output_type": "execute_result"
    }
   ],
   "source": [
    "q,r=np.linalg.qr(mat)\n",
    "r"
   ]
  },
  {
   "cell_type": "code",
   "execution_count": 1,
   "metadata": {},
   "outputs": [
    {
     "name": "stdout",
     "output_type": "stream",
     "text": [
      "1.58 s ± 122 ms per loop (mean ± std. dev. of 7 runs, 1 loop each)\n"
     ]
    }
   ],
   "source": [
    "from random import normalvariate\n",
    "n=1000000\n",
    "%timeit samples=[normalvariate(0,1) for _ in range(n)] "
   ]
  },
  {
   "cell_type": "code",
   "execution_count": 5,
   "metadata": {},
   "outputs": [
    {
     "name": "stdout",
     "output_type": "stream",
     "text": [
      "69.3 ms ± 4.74 ms per loop (mean ± std. dev. of 7 runs, 10 loops each)\n"
     ]
    }
   ],
   "source": [
    "%timeit np.random.normal(size=n)"
   ]
  },
  {
   "cell_type": "code",
   "execution_count": 12,
   "metadata": {},
   "outputs": [
    {
     "data": {
      "text/plain": [
       "array([ 0.47143516, -1.19097569,  1.43270697, -0.3126519 , -0.72058873,\n",
       "        0.88716294,  0.85958841, -0.6365235 ,  0.01569637, -2.24268495])"
      ]
     },
     "execution_count": 12,
     "metadata": {},
     "output_type": "execute_result"
    }
   ],
   "source": [
    "np.random.seed(1234)\n",
    "np.random.randn(10)\n",
    "np.random.seed(1234)\n",
    "np.random.randn(10)"
   ]
  },
  {
   "cell_type": "code",
   "execution_count": 10,
   "metadata": {},
   "outputs": [
    {
     "data": {
      "text/plain": [
       "array([ 1.15003572,  0.99194602,  0.95332413, -2.02125482, -0.33407737,\n",
       "        0.00211836,  0.40545341,  0.28909194,  1.32115819, -1.54690555])"
      ]
     },
     "execution_count": 10,
     "metadata": {},
     "output_type": "execute_result"
    }
   ],
   "source": [
    "rng=np.random.RandomState"
   ]
  },
  {
   "cell_type": "code",
   "execution_count": 11,
   "metadata": {},
   "outputs": [
    {
     "data": {
      "text/plain": [
       "array([-0.20264632, -0.65596934,  0.19342138,  0.55343891,  1.31815155,\n",
       "       -0.46930528,  0.67555409, -1.81702723, -0.18310854,  1.05896919])"
      ]
     },
     "execution_count": 11,
     "metadata": {},
     "output_type": "execute_result"
    }
   ],
   "source": []
  },
  {
   "cell_type": "code",
   "execution_count": null,
   "metadata": {},
   "outputs": [],
   "source": []
  }
 ],
 "metadata": {
  "kernelspec": {
   "display_name": "Python 3",
   "language": "python",
   "name": "python3"
  },
  "language_info": {
   "codemirror_mode": {
    "name": "ipython",
    "version": 3
   },
   "file_extension": ".py",
   "mimetype": "text/x-python",
   "name": "python",
   "nbconvert_exporter": "python",
   "pygments_lexer": "ipython3",
   "version": "3.6.4"
  }
 },
 "nbformat": 4,
 "nbformat_minor": 2
}
