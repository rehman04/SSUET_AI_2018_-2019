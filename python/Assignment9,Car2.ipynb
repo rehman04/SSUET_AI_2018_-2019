{
 "cells": [
  {
   "cell_type": "code",
   "execution_count": null,
   "metadata": {},
   "outputs": [
    {
     "name": "stdout",
     "output_type": "stream",
     "text": [
      "here is car list and fares per day\n",
      "hatchback: $ 30\n",
      "sedan: $ 50\n",
      "suv: $ 100\n"
     ]
    }
   ],
   "source": [
    "class car_categories:\n",
    "    def __init__(self,listt):\n",
    "        x={}\n",
    "        self.listt=listt\n",
    "        n=[]\n",
    "        for t in listt:\n",
    "            n.append(listt.index(t))\n",
    "        zipped=list(zip(listt,n))\n",
    "        self.x=dict(zipped)\n",
    "        \n",
    "    def removed_carr(self,sad):\n",
    "        self.listt.remove(sad)\n",
    "    \n",
    "    def returned_car(self,sd):\n",
    "        for k in self.x.keys():\n",
    "            if sd is k:\n",
    "                self.listt.insert(self.x[k],k)\n",
    "\n",
    "d=['hatchback','sedan','suv']\n",
    "cars=car_categories(d)\n",
    "e={'hatchback:':['$',30],'sedan:':['$',50],'suv:':['$',100]}\n",
    "print('here is car list and fares per day')\n",
    "for k in e.keys():\n",
    "    print(k, e[k][0],e[k][1])\n",
    "user1=input('please choose type car u want to borrow')\n",
    "cars.removed_carr(user1)\n",
    "user2=input('for how many days u want to borrow?')\n",
    "h=e[user1][1]*user2\n",
    "print('ur fare details',user1,':$',h)\n"
   ]
  },
  {
   "cell_type": "code",
   "execution_count": null,
   "metadata": {},
   "outputs": [],
   "source": []
  },
  {
   "cell_type": "code",
   "execution_count": null,
   "metadata": {},
   "outputs": [],
   "source": []
  }
 ],
 "metadata": {
  "kernelspec": {
   "display_name": "Python 3",
   "language": "python",
   "name": "python3"
  },
  "language_info": {
   "codemirror_mode": {
    "name": "ipython",
    "version": 3
   },
   "file_extension": ".py",
   "mimetype": "text/x-python",
   "name": "python",
   "nbconvert_exporter": "python",
   "pygments_lexer": "ipython3",
   "version": "3.6.4"
  }
 },
 "nbformat": 4,
 "nbformat_minor": 2
}
