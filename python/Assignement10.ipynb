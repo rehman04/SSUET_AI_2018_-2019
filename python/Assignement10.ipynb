{
 "cells": [
  {
   "cell_type": "code",
   "execution_count": 4,
   "metadata": {},
   "outputs": [
    {
     "name": "stdout",
     "output_type": "stream",
     "text": [
      "eneter city karachi\n",
      "karachi this is the cleanest\n",
      "eneter city q\n",
      "u didnt choose a city\n"
     ]
    }
   ],
   "source": [
    "clcty=['karachi','lahore','hyderabad']\n",
    "usin=''\n",
    "while True:\n",
    "    usin=input('eneter city ')\n",
    "    if usin !='q':\n",
    "        for l in clcty:\n",
    "            if usin==l:\n",
    "                print(l+ \" this is the cleanest\")\n",
    "                break\n",
    "    else:\n",
    "        print('u didnt choose a city')\n",
    "        break"
   ]
  },
  {
   "cell_type": "code",
   "execution_count": 9,
   "metadata": {},
   "outputs": [
    {
     "name": "stdout",
     "output_type": "stream",
     "text": [
      "enter toppings to addhello\n",
      "u have entered this topping hello\n",
      "enter toppings to add\n",
      "\n",
      "u havent choose more toppings thank u\n"
     ]
    }
   ],
   "source": [
    "def a(*toppings):\n",
    "    for t in toppings:\n",
    "        print('u have entered this topping '+ t)\n",
    "while True:\n",
    "    user=input('enter toppings to add')\n",
    "    if not user:\n",
    "        print('\\nu havent choose more toppings thank u')\n",
    "        break\n",
    "    else:\n",
    "        a(user)\n"
   ]
  },
  {
   "cell_type": "code",
   "execution_count": null,
   "metadata": {},
   "outputs": [],
   "source": []
  },
  {
   "cell_type": "code",
   "execution_count": null,
   "metadata": {},
   "outputs": [],
   "source": []
  }
 ],
 "metadata": {
  "kernelspec": {
   "display_name": "Python 3",
   "language": "python",
   "name": "python3"
  },
  "language_info": {
   "codemirror_mode": {
    "name": "ipython",
    "version": 3
   },
   "file_extension": ".py",
   "mimetype": "text/x-python",
   "name": "python",
   "nbconvert_exporter": "python",
   "pygments_lexer": "ipython3",
   "version": "3.6.4"
  }
 },
 "nbformat": 4,
 "nbformat_minor": 2
}
