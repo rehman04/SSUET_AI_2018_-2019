 "<h3>Q no 1 : you have some strings in variable text your task is to make a list of capital letters only using list comprehension and print that list</h3>\n",
   
 "<h4>Hint! explore isUpper() method then do this</h4>"
 
 "<h3>Q no 2: Make a list of numbers from 0 to 20 which is divisible by 2 using list comprehension</h3>"
  
  
 "<h3>Q no 3 : Find all of the numbers from 1-1000 that are divisible by 7 by making a list using list comprehension and print it</h3>"
  
 "<h3>Q no 4 : Count the number of spaces in a string below using list comprehension and print the result</h3>"
   
 "<h3>Q no 5 : Write a script that draws a triangle as below:</h3>"
 
 "source": [
    
"*\n",
   
 "**\n",
 
   "***\n",
   
 "****\n",
    "*****\n",
    "******\n",
    "*******\n",
    "********\n",
    "*********\n",
    "**********\n",
    "***********\n",
    "************"
   

 "<h3>Q no 6 : Write a script that draws a geometric shape as below:</h3>"
 
 "source": [
    "*\n",
    "**\n",
    "***\n",
    "****\n",
    "*****\n",
    "******\n",
    "*******\n",
    "******\n",
    "*****\n",
    "****\n",
    "***\n",
    "**\n",
    "*"
   
 
"<h3>Q no 7 :Find all of the words in a string that are less than 4 letters using list comprehension</h3>"
      "source": []
   "source": []
  "outputs": [],
   "source": []
 "source": []
  
